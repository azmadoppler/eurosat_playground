{
 "cells": [
  {
   "cell_type": "code",
   "execution_count": 1,
   "id": "91bad298-be26-4fe3-876a-95bc41215291",
   "metadata": {},
   "outputs": [],
   "source": [
    "#pytorch lib\n",
    "import torch\n",
    "import torch.nn as nn\n",
    "import torch.nn.functional as F\n",
    "from torch.utils.data import DataLoader\n",
    "from torchvision import datasets, transforms,models\n",
    "from torch.utils.data import Dataset,random_split\n",
    "import torch.optim as optim\n",
    "\n",
    "\n",
    "import numpy as np\n",
    "import pandas as pd\n",
    "import matplotlib.pyplot as plt\n",
    "import os,shutil,warnings\n",
    "import glob\n",
    "import random \n",
    "import rasterio\n",
    "import json\n",
    "\n",
    "from tqdm import tqdm\n",
    "from PIL import Image\n",
    "from IPython.display import display\n",
    "from torchvision import transforms\n",
    "from typing import Tuple, Dict, List\n",
    "\n",
    "from sklearn.metrics import precision_score, recall_score, confusion_matrix, ConfusionMatrixDisplay\n",
    "\n",
    "\n",
    "random.seed(69)\n"
   ]
  },
  {
   "cell_type": "markdown",
   "id": "ec1f1476-617e-4d4b-8486-70d071b734cc",
   "metadata": {},
   "source": [
    "## Data Preperation\n",
    "Since the image already formatted in \"Classname/imagename.png\", we can use utility function from PyTorch called \"Image Folder\" to prepare the image for us"
   ]
  },
  {
   "cell_type": "code",
   "execution_count": 5,
   "id": "748c51ba-a7d4-4bd2-94a1-d53640a19346",
   "metadata": {},
   "outputs": [],
   "source": [
    "#get all the classes\n",
    "root_dir = \"datasets/EuroSAT/\"\n",
    "transform = transforms.Compose([\n",
    "    transforms.ToTensor(),  # Converts to a tensor and scales values to [0, 1]\n",
    "    transforms.ConvertImageDtype(torch.float32),\n",
    "])\n",
    "dataset = datasets.ImageFolder(root=root_dir, transform=transform, )\n",
    "\n",
    "train_size = int(0.9*len(dataset))\n",
    "test_size  = len(dataset) - train_size"
   ]
  },
  {
   "cell_type": "code",
   "execution_count": null,
   "id": "df35a574-d5a8-40e1-9961-30c79ea61f2b",
   "metadata": {},
   "outputs": [],
   "source": []
  },
  {
   "cell_type": "code",
   "execution_count": null,
   "id": "7bdf3c8d-14ad-40c9-bf0c-08c2e4f6b96a",
   "metadata": {},
   "outputs": [],
   "source": []
  }
 ],
 "metadata": {
  "kernelspec": {
   "display_name": "Python 3 (ipykernel)",
   "language": "python",
   "name": "python3"
  },
  "language_info": {
   "codemirror_mode": {
    "name": "ipython",
    "version": 3
   },
   "file_extension": ".py",
   "mimetype": "text/x-python",
   "name": "python",
   "nbconvert_exporter": "python",
   "pygments_lexer": "ipython3",
   "version": "3.11.9"
  }
 },
 "nbformat": 4,
 "nbformat_minor": 5
}
