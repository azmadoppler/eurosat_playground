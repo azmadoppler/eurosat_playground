{
 "cells": [
  {
   "cell_type": "markdown",
   "id": "c7dd87fc-d895-4f5c-bd61-c2791f3de331",
   "metadata": {},
   "source": [
    "# Step by step on training CNN using all bands info"
   ]
  },
  {
   "cell_type": "markdown",
   "id": "a48b6265-cb49-421f-8ec8-47b2509a67a3",
   "metadata": {},
   "source": [
    "### Library Loading"
   ]
  },
  {
   "cell_type": "code",
   "execution_count": 4,
   "id": "1c584c09-1901-4b27-9f1a-0d50fd8888e8",
   "metadata": {},
   "outputs": [],
   "source": [
    "#pytorch lib\n",
    "import torch\n",
    "import torch.nn as nn\n",
    "import torch.nn.functional as F\n",
    "from torch.utils.data import DataLoader\n",
    "from torchvision import datasets, transforms\n",
    "from torch.utils.data import Dataset\n",
    "\n",
    "\n",
    "import numpy as np\n",
    "import pandas as pd\n",
    "import matplotlib.pyplot as plt\n",
    "import os,shutil,warnings\n",
    "import glob\n",
    "import random \n",
    "import rasterio\n",
    "\n",
    "from PIL import Image\n",
    "from IPython.display import display\n",
    "from torchvision import transforms\n",
    "from typing import Tuple, Dict, List\n",
    "\n",
    "random.seed(69)\n"
   ]
  },
  {
   "cell_type": "markdown",
   "id": "37e6b2c3-68dd-4feb-b6f4-2a5e732a2c45",
   "metadata": {},
   "source": [
    "### Data Preparation"
   ]
  },
  {
   "cell_type": "markdown",
   "id": "aa379714-5b47-4e29-8a3f-7352ecbc69ca",
   "metadata": {},
   "source": [
    "Since the task is Image Classification, using ImageFolder is very easy and hard to have some error, however Custom Dataset style is prefered if image is not format properly or preprocess step is complicated"
   ]
  },
  {
   "cell_type": "markdown",
   "id": "e01438dc-218a-4347-bec7-3e0ac9e1e2b7",
   "metadata": {},
   "source": [
    "##### import all lib"
   ]
  },
  {
   "cell_type": "code",
   "execution_count": null,
   "id": "36d1daba-ca0a-4d0f-861e-ef95c342df92",
   "metadata": {},
   "outputs": [],
   "source": []
  },
  {
   "cell_type": "markdown",
   "id": "325676a8-8484-48e1-992a-20d70267bff1",
   "metadata": {},
   "source": [
    "### Data visualization"
   ]
  },
  {
   "cell_type": "code",
   "execution_count": 5,
   "id": "eac4624d-1bbc-4551-8eab-01973ee746a4",
   "metadata": {},
   "outputs": [
    {
     "name": "stdout",
     "output_type": "stream",
     "text": [
      "There are 11 directories and 4 images in 'datasets/EuroSATallBands/'.\n",
      "There are 0 directories and 3000 images in 'datasets/EuroSATallBands/AnnualCrop'.\n",
      "There are 0 directories and 2500 images in 'datasets/EuroSATallBands/Industrial'.\n",
      "There are 0 directories and 3000 images in 'datasets/EuroSATallBands/Forest'.\n",
      "There are 0 directories and 2000 images in 'datasets/EuroSATallBands/Pasture'.\n",
      "There are 0 directories and 3000 images in 'datasets/EuroSATallBands/HerbaceousVegetation'.\n",
      "There are 0 directories and 2500 images in 'datasets/EuroSATallBands/River'.\n",
      "There are 0 directories and 2500 images in 'datasets/EuroSATallBands/Highway'.\n",
      "There are 0 directories and 2500 images in 'datasets/EuroSATallBands/PermanentCrop'.\n",
      "There are 0 directories and 3597 images in 'datasets/EuroSATallBands/SeaLake'.\n",
      "There are 0 directories and 1 images in 'datasets/EuroSATallBands/.ipynb_checkpoints'.\n",
      "There are 0 directories and 3000 images in 'datasets/EuroSATallBands/Residential'.\n"
     ]
    }
   ],
   "source": [
    "image_path = \"datasets/EuroSATallBands/\"\n",
    "for dirpaths,dirnames,filenames in os.walk(image_path):\n",
    "    print(f\"There are {len(dirnames)} directories and {len(filenames)} images in '{dirpaths}'.\")"
   ]
  },
  {
   "cell_type": "code",
   "execution_count": 6,
   "id": "b08e90a1-481d-41f1-bb1f-52ac1685311c",
   "metadata": {},
   "outputs": [
    {
     "data": {
      "text/plain": [
       "('datasets/EuroSATallBands/train', 'datasets/EuroSATallBands/test')"
      ]
     },
     "execution_count": 6,
     "metadata": {},
     "output_type": "execute_result"
    }
   ],
   "source": [
    "train_dir = os.path.join(image_path,\"train\")\n",
    "test_dir = os.path.join(image_path,\"test\")\n",
    "train_dir, test_dir"
   ]
  },
  {
   "cell_type": "code",
   "execution_count": null,
   "id": "e8b7db70-1141-4737-8b17-748bd463010c",
   "metadata": {},
   "outputs": [],
   "source": []
  },
  {
   "cell_type": "code",
   "execution_count": 7,
   "id": "1cc42fdb-ad20-4177-87e9-6d54257ccbec",
   "metadata": {},
   "outputs": [
    {
     "name": "stdout",
     "output_type": "stream",
     "text": [
      "File: datasets/EuroSATallBands/Industrial/Industrial_1.tif\n",
      "Width: 64\n",
      "Height: 64\n",
      "Number of bands: 13\n",
      "CRS: EPSG:32632\n",
      "Transform: | 10.00, 0.00, 323455.65|\n",
      "| 0.00,-9.98, 5507072.62|\n",
      "| 0.00, 0.00, 1.00|\n"
     ]
    },
    {
     "data": {
      "image/png": "[encoded data removed]",
      "text/plain": [
       "<Figure size 640x480 with 1 Axes>"
      ]
     },
     "metadata": {},
     "output_type": "display_data"
    }
   ],
   "source": [
    "#View tif image using rasterio \n",
    "tiff_img = 'datasets/EuroSATallBands/Industrial/Industrial_1.tif'\n",
    "with rasterio.open(tiff_img) as dataset:\n",
    "    print(f\"File: {tiff_img}\")\n",
    "    print(f\"Width: {dataset.width}\")\n",
    "    print(f\"Height: {dataset.height}\")\n",
    "    print(f\"Number of bands: {dataset.count}\")\n",
    "    print(f\"CRS: {dataset.crs}\")\n",
    "    print(f\"Transform: {dataset.transform}\")\n",
    "\n",
    "    # Uncomment the below infos if you want to view infos in all bands\n",
    "    # for band in range(1, dataset.count + 1):\n",
    "    #     # Read the band data\n",
    "    #     band_data = dataset.read(band)\n",
    "\n",
    "    #Example of reading RGB from band\n",
    "    red_band = dataset.read(4)   # Band 4\n",
    "    green_band = dataset.read(3) # Band 3\n",
    "    blue_band = dataset.read(2)  # Band 2\n",
    "    \n",
    "    def normalize(array):\n",
    "        array_min, array_max = array.min(), array.max()\n",
    "        return (array - array_min) / (array_max - array_min)\n",
    "\n",
    "    #you can uncomment this to test what happened if not normalized properly\n",
    "    red = normalize(red_band)\n",
    "    green = normalize(green_band)\n",
    "    blue = normalize(blue_band)\n",
    "\n",
    "    # Stack the bands to create an RGB image\n",
    "    rgb = np.dstack((red, green, blue))\n",
    "\n",
    "    # Display the RGB image\n",
    "    plt.imshow(rgb)\n",
    "    plt.title('RGB Image')\n",
    "    plt.axis('off')  # Hide the ax\n",
    "    plt.show()\n"
   ]
  },
  {
   "cell_type": "markdown",
   "id": "51f79bf4-2896-4307-bc36-cf32c3f223a6",
   "metadata": {},
   "source": [
    "### Using Dataloader\n",
    "Unlike ViT file, we use the DataLoader instead of ImageFolder since we've to preprocess the TIFF file instead of just use PNG/JPG file"
   ]
  },
  {
   "cell_type": "code",
   "execution_count": 8,
   "id": "e1d99f36-ff61-458f-b86c-e53da7aa7b42",
   "metadata": {},
   "outputs": [],
   "source": [
    "# Converted all Tif into 6 band TIF file\n",
    "\n",
    "tiff_image_path = glob.glob(\"datasets/EuroSATallBands/*/*.tif\")\n",
    "png_image_path = os.path.join(\"datasets/\",\"EUROSATSixBands\")\n",
    "os.makedirs(png_image_path,exist_ok=True)"
   ]
  },
  {
   "cell_type": "code",
   "execution_count": 9,
   "id": "305136e2-ad12-4a89-9738-05a91d77a884",
   "metadata": {},
   "outputs": [],
   "source": [
    "#helper fx\n",
    "def normalize(arr):\n",
    "    arr_min,arr_max = arr.min(),arr.max()\n",
    "    return (arr-arr_min) / (arr_max-arr_min)"
   ]
  },
  {
   "cell_type": "code",
   "execution_count": 31,
   "id": "8eeaa80a-e6f4-44b3-b445-bd87d5481cd7",
   "metadata": {},
   "outputs": [],
   "source": [
    "class EuroSATMultiBandDataset(Dataset):\n",
    "    def __init__(self, annotation_file, img_dir , transform=None,target_transform=None):\n",
    "        self.img_dir = img_dir\n",
    "        self.transform = transform\n",
    "        self.img_dir = img_dir\n",
    "        self.target_transform = target_transform\n",
    "\n",
    "    def __getitem__(self,idx):\n",
    "        file_paths = self.img_dir\n",
    "        with rasterio.open(filename) as dataset:\n",
    "            band2 = dataset.read(2)  # Blue\n",
    "            band3 = dataset.read(3)  # Green\n",
    "            band4 = dataset.read(4)  # Red\n",
    "            band8 = dataset.read(8)  # NIR\n",
    "            band11 = dataset.read(11) # SWIR1\n",
    "            band12 = dataset.read(12) # SWIR2\n",
    "    \n",
    "            bands = [band2, band3, band4, band8, band11, band12]\n",
    "            normalized_band = [normalize(band) for band in bands]\n",
    "    \n",
    "            #axis -1 for [h,w,vol], else it will be [vol,h,w]\n",
    "            stacked_band = np.stack(normalized_band, axis =-1)\n",
    "    \n",
    "            #convert back from multipleband to img to use later\n",
    "            \n",
    "            \n",
    "            break\n",
    "\n",
    "    \n",
    "    def __len__(self):\n",
    "        return len(self.file_paths)\n",
    "\n",
    "        \n",
    "        \n",
    "    "
   ]
  },
  {
   "cell_type": "code",
   "execution_count": null,
   "id": "560b6b1f-728b-497c-ad08-1b3046f17d22",
   "metadata": {},
   "outputs": [],
   "source": []
  },
  {
   "cell_type": "code",
   "execution_count": null,
   "id": "a6910841-6112-4a51-92a8-3f145a080b40",
   "metadata": {},
   "outputs": [],
   "source": []
  }
 ],
 "metadata": {
  "kernelspec": {
   "display_name": "Python 3 (ipykernel)",
   "language": "python",
   "name": "python3"
  },
  "language_info": {
   "codemirror_mode": {
    "name": "ipython",
    "version": 3
   },
   "file_extension": ".py",
   "mimetype": "text/x-python",
   "name": "python",
   "nbconvert_exporter": "python",
   "pygments_lexer": "ipython3",
   "version": "3.11.9"
  }
 },
 "nbformat": 4,
 "nbformat_minor": 5
}
