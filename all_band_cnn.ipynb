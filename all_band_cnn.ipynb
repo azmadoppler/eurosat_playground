{
 "cells": [
  {
   "cell_type": "markdown",
   "id": "c7dd87fc-d895-4f5c-bd61-c2791f3de331",
   "metadata": {},
   "source": [
    "# Step by step on training CNN using all bands info"
   ]
  },
  {
   "cell_type": "markdown",
   "id": "a48b6265-cb49-421f-8ec8-47b2509a67a3",
   "metadata": {},
   "source": [
    "### Library Loading"
   ]
  },
  {
   "cell_type": "code",
   "execution_count": 3,
   "id": "1c584c09-1901-4b27-9f1a-0d50fd8888e8",
   "metadata": {},
   "outputs": [],
   "source": [
    "#pytorch lib\n",
    "import torch\n",
    "import torch.nn as nn\n",
    "import torch.nn.functional as F\n",
    "from torch.utils.data import DataLoader\n",
    "from torchvision import datasets, transforms\n",
    "\n",
    "\n",
    "import numpy as np\n",
    "import pandas as pd\n",
    "import matplotlib.pyplot as plt\n"
   ]
  },
  {
   "cell_type": "markdown",
   "id": "37e6b2c3-68dd-4feb-b6f4-2a5e732a2c45",
   "metadata": {},
   "source": [
    "### Data Preparation"
   ]
  },
  {
   "cell_type": "code",
   "execution_count": 7,
   "id": "36d1daba-ca0a-4d0f-861e-ef95c342df92",
   "metadata": {},
   "outputs": [],
   "source": [
    "import os,shutil,warnings\n",
    "from PIL import Image\n",
    "from IPython.display import display"
   ]
  },
  {
   "cell_type": "code",
   "execution_count": null,
   "id": "24eff44b-2c24-4aa0-a637-dec56ea393e9",
   "metadata": {},
   "outputs": [],
   "source": [
    "#Check open image\n",
    "with Image.open(\"datasets/EuroSATallBands/Forest/Forest_1.tif\")\n"
   ]
  },
  {
   "cell_type": "code",
   "execution_count": null,
   "id": "24c34e02-33f4-402a-a783-febedee384d8",
   "metadata": {},
   "outputs": [],
   "source": []
  }
 ],
 "metadata": {
  "kernelspec": {
   "display_name": "Python 3 (ipykernel)",
   "language": "python",
   "name": "python3"
  },
  "language_info": {
   "codemirror_mode": {
    "name": "ipython",
    "version": 3
   },
   "file_extension": ".py",
   "mimetype": "text/x-python",
   "name": "python",
   "nbconvert_exporter": "python",
   "pygments_lexer": "ipython3",
   "version": "3.11.9"
  }
 },
 "nbformat": 4,
 "nbformat_minor": 5
}
