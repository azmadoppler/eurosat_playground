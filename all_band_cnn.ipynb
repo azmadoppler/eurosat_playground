{
 "cells": [
  {
   "cell_type": "markdown",
   "id": "c7dd87fc-d895-4f5c-bd61-c2791f3de331",
   "metadata": {},
   "source": [
    "# Step by step on training CNN using all bands info"
   ]
  },
  {
   "cell_type": "markdown",
   "id": "a48b6265-cb49-421f-8ec8-47b2509a67a3",
   "metadata": {},
   "source": [
    "### Library Loading"
   ]
  },
  {
   "cell_type": "code",
   "execution_count": 3,
   "id": "1c584c09-1901-4b27-9f1a-0d50fd8888e8",
   "metadata": {},
   "outputs": [],
   "source": [
    "#pytorch lib\n",
    "import torch\n",
    "import torch.nn as nn\n",
    "import torch.nn.functional as F\n",
    "from torch.utils.data import DataLoader\n",
    "from torchvision import datasets, transforms\n",
    "\n",
    "\n",
    "import numpy as np\n",
    "import pandas as pd\n",
    "import matplotlib.pyplot as plt\n"
   ]
  },
  {
   "cell_type": "markdown",
   "id": "37e6b2c3-68dd-4feb-b6f4-2a5e732a2c45",
   "metadata": {},
   "source": [
    "### Data Preparation"
   ]
  },
  {
   "cell_type": "markdown",
   "id": "aa379714-5b47-4e29-8a3f-7352ecbc69ca",
   "metadata": {},
   "source": [
    "Since the task is Image Classification, using ImageFolder is very easy and hard to have some error, however Custom Dataset style is prefered if image is not format properly or preprocess step is complicated"
   ]
  },
  {
   "cell_type": "markdown",
   "id": "e01438dc-218a-4347-bec7-3e0ac9e1e2b7",
   "metadata": {},
   "source": [
    "##### import all lib"
   ]
  },
  {
   "cell_type": "code",
   "execution_count": 2,
   "id": "36d1daba-ca0a-4d0f-861e-ef95c342df92",
   "metadata": {},
   "outputs": [],
   "source": [
    "import os,shutil,warnings\n",
    "from PIL import Image\n",
    "from IPython.display import display\n",
    "from torch.utils.data import Dataset\n",
    "from torchvision import transforms\n",
    "from typing import Tuple, Dict, List"
   ]
  },
  {
   "cell_type": "markdown",
   "id": "325676a8-8484-48e1-992a-20d70267bff1",
   "metadata": {},
   "source": [
    "#### data visualization"
   ]
  },
  {
   "cell_type": "code",
   "execution_count": 13,
   "id": "eac4624d-1bbc-4551-8eab-01973ee746a4",
   "metadata": {},
   "outputs": [
    {
     "name": "stdout",
     "output_type": "stream",
     "text": [
      "There are 10 directories and 4 images in 'datasets/EuroSATallBands/'.\n",
      "There are 0 directories and 2500 images in 'datasets/EuroSATallBands/'.\n",
      "There are 0 directories and 3597 images in 'datasets/EuroSATallBands/'.\n",
      "There are 0 directories and 2500 images in 'datasets/EuroSATallBands/'.\n",
      "There are 0 directories and 2500 images in 'datasets/EuroSATallBands/'.\n",
      "There are 0 directories and 3000 images in 'datasets/EuroSATallBands/'.\n",
      "There are 0 directories and 3000 images in 'datasets/EuroSATallBands/'.\n",
      "There are 0 directories and 2500 images in 'datasets/EuroSATallBands/'.\n",
      "There are 0 directories and 3000 images in 'datasets/EuroSATallBands/'.\n",
      "There are 0 directories and 2000 images in 'datasets/EuroSATallBands/'.\n",
      "There are 0 directories and 3000 images in 'datasets/EuroSATallBands/'.\n"
     ]
    }
   ],
   "source": [
    "image_path = \"datasets/EuroSATallBands/\"\n",
    "for dirpaths,dirnames,filenames in os.walk(image_path):\n",
    "    print(f\"There are {len(dirnames)} directories and {len(filenames)} images in '{dirpath}'.\")\n",
    "\n"
   ]
  },
  {
   "cell_type": "code",
   "execution_count": 15,
   "id": "b08e90a1-481d-41f1-bb1f-52ac1685311c",
   "metadata": {},
   "outputs": [
    {
     "data": {
      "text/plain": [
       "('datasets/EuroSATallBands/train', 'datasets/EuroSATallBands/test')"
      ]
     },
     "execution_count": 15,
     "metadata": {},
     "output_type": "execute_result"
    }
   ],
   "source": [
    "train_dir = os.path.join(image_path,\"train\")\n",
    "test_dir = os.path.join(image_path,\"test\")\n",
    "train_dir, test_dir"
   ]
  },
  {
   "cell_type": "code",
   "execution_count": 17,
   "id": "cac9a207-91e7-4802-87ce-cb7aace6ed2b",
   "metadata": {},
   "outputs": [
    {
     "ename": "SyntaxError",
     "evalue": "incomplete input (1078071239.py, line 4)",
     "output_type": "error",
     "traceback": [
      "\u001b[0;36m  Cell \u001b[0;32mIn[17], line 4\u001b[0;36m\u001b[0m\n\u001b[0;31m    image_path_list = list(image_path.glob(\"*/*/*.jpg\")\u001b[0m\n\u001b[0m                                                       ^\u001b[0m\n\u001b[0;31mSyntaxError\u001b[0m\u001b[0;31m:\u001b[0m incomplete input\n"
     ]
    }
   ],
   "source": [
    "import random \n",
    "\n",
    "random.seed(69)\n",
    "image_path_list = list(image_path.glob(\"*/*/*.jpg\")"
   ]
  },
  {
   "cell_type": "markdown",
   "id": "5a1be468-32a6-4e61-85da-702396f056d0",
   "metadata": {},
   "source": [
    "#### Using ImageFolder"
   ]
  },
  {
   "cell_type": "code",
   "execution_count": 7,
   "id": "e1d99f36-ff61-458f-b86c-e53da7aa7b42",
   "metadata": {},
   "outputs": [],
   "source": []
  },
  {
   "cell_type": "code",
   "execution_count": null,
   "id": "305136e2-ad12-4a89-9738-05a91d77a884",
   "metadata": {},
   "outputs": [],
   "source": []
  },
  {
   "cell_type": "code",
   "execution_count": 4,
   "id": "4fcf806d-59e1-457b-ba0f-5bb88aa3995c",
   "metadata": {},
   "outputs": [
    {
     "ename": "NameError",
     "evalue": "name 'train_dir' is not defined",
     "output_type": "error",
     "traceback": [
      "\u001b[0;31m---------------------------------------------------------------------------\u001b[0m",
      "\u001b[0;31mNameError\u001b[0m                                 Traceback (most recent call last)",
      "Cell \u001b[0;32mIn[4], line 1\u001b[0m\n\u001b[0;32m----> 1\u001b[0m train_data \u001b[38;5;241m=\u001b[39m datasets\u001b[38;5;241m.\u001b[39mImageFolder(root\u001b[38;5;241m=\u001b[39m\u001b[43mtrain_dir\u001b[49m, \n\u001b[1;32m      2\u001b[0m                                  transform \u001b[38;5;241m=\u001b[39m data_transform,\n\u001b[1;32m      3\u001b[0m                                  target_transform \u001b[38;5;241m=\u001b[39m \u001b[38;5;28;01mNone\u001b[39;00m)\n",
      "\u001b[0;31mNameError\u001b[0m: name 'train_dir' is not defined"
     ]
    }
   ],
   "source": [
    "train_data = datasets.ImageFolder(root=train_dir, \n",
    "                                 transform = data_transform,\n",
    "                                 target_transform = None)"
   ]
  },
  {
   "cell_type": "code",
   "execution_count": null,
   "id": "560b6b1f-728b-497c-ad08-1b3046f17d22",
   "metadata": {},
   "outputs": [],
   "source": []
  },
  {
   "cell_type": "code",
   "execution_count": null,
   "id": "a6910841-6112-4a51-92a8-3f145a080b40",
   "metadata": {},
   "outputs": [],
   "source": []
  },
  {
   "cell_type": "code",
   "execution_count": null,
   "id": "b697761b-7027-4428-bc76-76306f36fc75",
   "metadata": {},
   "outputs": [],
   "source": []
  },
  {
   "cell_type": "code",
   "execution_count": null,
   "id": "f07505f2-1e8d-488e-b7e1-d00713c583bb",
   "metadata": {},
   "outputs": [],
   "source": []
  },
  {
   "cell_type": "markdown",
   "id": "51f79bf4-2896-4307-bc36-cf32c3f223a6",
   "metadata": {},
   "source": [
    "#### Using Dataloader"
   ]
  },
  {
   "cell_type": "code",
   "execution_count": null,
   "id": "24eff44b-2c24-4aa0-a637-dec56ea393e9",
   "metadata": {},
   "outputs": [],
   "source": [
    "#Check open image\n",
    "class EuroSATImageDataset(Dataset):\n",
    "    def __init__(self,annotation_file, img_dir, transform = None, target_transform=None):\n",
    "        self.\n",
    "\n"
   ]
  },
  {
   "cell_type": "code",
   "execution_count": null,
   "id": "24c34e02-33f4-402a-a783-febedee384d8",
   "metadata": {},
   "outputs": [],
   "source": []
  }
 ],
 "metadata": {
  "kernelspec": {
   "display_name": "Python 3 (ipykernel)",
   "language": "python",
   "name": "python3"
  },
  "language_info": {
   "codemirror_mode": {
    "name": "ipython",
    "version": 3
   },
   "file_extension": ".py",
   "mimetype": "text/x-python",
   "name": "python",
   "nbconvert_exporter": "python",
   "pygments_lexer": "ipython3",
   "version": "3.11.9"
  }
 },
 "nbformat": 4,
 "nbformat_minor": 5
}
