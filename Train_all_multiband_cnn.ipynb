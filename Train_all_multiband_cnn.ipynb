{
 "cells": [
  {
   "cell_type": "markdown",
   "id": "c7dd87fc-d895-4f5c-bd61-c2791f3de331",
   "metadata": {},
   "source": [
    "# Step by step on training CNN using all bands info"
   ]
  },
  {
   "cell_type": "markdown",
   "id": "a48b6265-cb49-421f-8ec8-47b2509a67a3",
   "metadata": {},
   "source": [
    "### Library Loading"
   ]
  },
  {
   "cell_type": "code",
   "execution_count": 1,
   "id": "1c584c09-1901-4b27-9f1a-0d50fd8888e8",
   "metadata": {},
   "outputs": [],
   "source": [
    "#pytorch lib\n",
    "import torch\n",
    "import torch.nn as nn\n",
    "import torch.nn.functional as F\n",
    "from torch.utils.data import DataLoader\n",
    "from torchvision import datasets, transforms,models\n",
    "from torch.utils.data import Dataset,random_split\n",
    "import torch.optim as optim\n",
    "\n",
    "\n",
    "import numpy as np\n",
    "import pandas as pd\n",
    "import matplotlib.pyplot as plt\n",
    "import os,shutil,warnings\n",
    "import glob\n",
    "import random \n",
    "import rasterio\n",
    "import json\n",
    "\n",
    "from tqdm import tqdm\n",
    "from PIL import Image\n",
    "from IPython.display import display\n",
    "from torchvision import transforms\n",
    "from typing import Tuple, Dict, List\n",
    "\n",
    "from sklearn.metrics import precision_score, recall_score, confusion_matrix, ConfusionMatrixDisplay\n",
    "\n",
    "\n",
    "random.seed(69)\n"
   ]
  },
  {
   "cell_type": "markdown",
   "id": "37e6b2c3-68dd-4feb-b6f4-2a5e732a2c45",
   "metadata": {},
   "source": [
    "### Data Preparation"
   ]
  },
  {
   "cell_type": "markdown",
   "id": "aa379714-5b47-4e29-8a3f-7352ecbc69ca",
   "metadata": {},
   "source": [
    "Since the task is Image Classification, using ImageFolder is very easy and hard to have some error, however Custom Dataset style is prefered if image is not format properly or preprocess step is complicated"
   ]
  },
  {
   "cell_type": "markdown",
   "id": "325676a8-8484-48e1-992a-20d70267bff1",
   "metadata": {},
   "source": [
    "### Data visualization"
   ]
  },
  {
   "cell_type": "code",
   "execution_count": 2,
   "id": "eac4624d-1bbc-4551-8eab-01973ee746a4",
   "metadata": {},
   "outputs": [
    {
     "name": "stdout",
     "output_type": "stream",
     "text": [
      "There are 11 directories and 5 images in 'datasets/EuroSATallBands/'.\n",
      "There are 0 directories and 3000 images in 'datasets/EuroSATallBands/AnnualCrop'.\n",
      "There are 0 directories and 2500 images in 'datasets/EuroSATallBands/Industrial'.\n",
      "There are 0 directories and 3000 images in 'datasets/EuroSATallBands/Forest'.\n",
      "There are 0 directories and 2000 images in 'datasets/EuroSATallBands/Pasture'.\n",
      "There are 0 directories and 3000 images in 'datasets/EuroSATallBands/HerbaceousVegetation'.\n",
      "There are 0 directories and 2500 images in 'datasets/EuroSATallBands/River'.\n",
      "There are 0 directories and 2500 images in 'datasets/EuroSATallBands/Highway'.\n",
      "There are 0 directories and 2500 images in 'datasets/EuroSATallBands/PermanentCrop'.\n",
      "There are 0 directories and 3597 images in 'datasets/EuroSATallBands/SeaLake'.\n",
      "There are 0 directories and 1 images in 'datasets/EuroSATallBands/.ipynb_checkpoints'.\n",
      "There are 0 directories and 3000 images in 'datasets/EuroSATallBands/Residential'.\n"
     ]
    }
   ],
   "source": [
    "image_path = \"datasets/EuroSATallBands/\"\n",
    "for dirpaths,dirnames,filenames in os.walk(image_path):\n",
    "    print(f\"There are {len(dirnames)} directories and {len(filenames)} images in '{dirpaths}'.\")"
   ]
  },
  {
   "cell_type": "code",
   "execution_count": 3,
   "id": "b08e90a1-481d-41f1-bb1f-52ac1685311c",
   "metadata": {},
   "outputs": [
    {
     "data": {
      "text/plain": [
       "('datasets/EuroSATallBands/train', 'datasets/EuroSATallBands/test')"
      ]
     },
     "execution_count": 3,
     "metadata": {},
     "output_type": "execute_result"
    }
   ],
   "source": [
    "train_dir = os.path.join(image_path,\"train\")\n",
    "test_dir = os.path.join(image_path,\"test\")\n",
    "train_dir, test_dir"
   ]
  },
  {
   "cell_type": "code",
   "execution_count": null,
   "id": "e8b7db70-1141-4737-8b17-748bd463010c",
   "metadata": {},
   "outputs": [],
   "source": []
  },
  {
   "cell_type": "code",
   "execution_count": 4,
   "id": "1cc42fdb-ad20-4177-87e9-6d54257ccbec",
   "metadata": {},
   "outputs": [
    {
     "name": "stdout",
     "output_type": "stream",
     "text": [
      "File: datasets/EuroSATallBands/Industrial/Industrial_1.tif\n",
      "Width: 64\n",
      "Height: 64\n",
      "Number of bands: 13\n",
      "CRS: EPSG:32632\n",
      "Transform: | 10.00, 0.00, 323455.65|\n",
      "| 0.00,-9.98, 5507072.62|\n",
      "| 0.00, 0.00, 1.00|\n"
     ]
    },
    {
     "data": {
      "image/png": "[encoded data removed]",
      "text/plain": [
       "<Figure size 640x480 with 1 Axes>"
      ]
     },
     "metadata": {},
     "output_type": "display_data"
    }
   ],
   "source": [
    "#View tif image using rasterio \n",
    "tiff_img = 'datasets/EuroSATallBands/Industrial/Industrial_1.tif'\n",
    "with rasterio.open(tiff_img) as dataset:\n",
    "    print(f\"File: {tiff_img}\")\n",
    "    print(f\"Width: {dataset.width}\")\n",
    "    print(f\"Height: {dataset.height}\")\n",
    "    print(f\"Number of bands: {dataset.count}\")\n",
    "    print(f\"CRS: {dataset.crs}\")\n",
    "    print(f\"Transform: {dataset.transform}\")\n",
    "\n",
    "    # Uncomment the below infos if you want to view infos in all bands\n",
    "    # for band in range(1, dataset.count + 1):\n",
    "    #     # Read the band data\n",
    "    #     band_data = dataset.read(band)\n",
    "\n",
    "    #Example of reading RGB from band\n",
    "    red_band = dataset.read(4)   # Band 4\n",
    "    green_band = dataset.read(3) # Band 3\n",
    "    blue_band = dataset.read(2)  # Band 2\n",
    "    \n",
    "    def normalize(array):\n",
    "        array_min, array_max = array.min(), array.max()\n",
    "        return (array - array_min) / (array_max - array_min)\n",
    "\n",
    "    #you can uncomment this to test what happened if not normalized properly\n",
    "    red = normalize(red_band)\n",
    "    green = normalize(green_band)\n",
    "    blue = normalize(blue_band)\n",
    "\n",
    "    # Stack the bands to create an RGB image\n",
    "    rgb = np.dstack((red, green, blue))\n",
    "\n",
    "    # Display the RGB image\n",
    "    plt.imshow(rgb)\n",
    "    plt.title('RGB Image')\n",
    "    plt.axis('off')  # Hide the ax\n",
    "    plt.show()\n"
   ]
  },
  {
   "cell_type": "markdown",
   "id": "51f79bf4-2896-4307-bc36-cf32c3f223a6",
   "metadata": {},
   "source": [
    "### Using Dataloader\n",
    "Unlike ViT file, we use the DataLoader instead of ImageFolder since we've to preprocess the TIFF file instead of just use PNG/JPG file"
   ]
  },
  {
   "cell_type": "code",
   "execution_count": 5,
   "id": "e1d99f36-ff61-458f-b86c-e53da7aa7b42",
   "metadata": {},
   "outputs": [],
   "source": [
    "# Converted all Tif into 6 band TIF file\n",
    "\n",
    "tiff_image_path = glob.glob(\"datasets/EuroSATallBands/*/*.tif\")\n",
    "png_image_path = os.path.join(\"datasets/\",\"EUROSATSixBands\")\n",
    "os.makedirs(png_image_path,exist_ok=True)"
   ]
  },
  {
   "cell_type": "code",
   "execution_count": 6,
   "id": "305136e2-ad12-4a89-9738-05a91d77a884",
   "metadata": {},
   "outputs": [],
   "source": [
    "#helper fx\n",
    "def normalize(arr):\n",
    "    arr_min,arr_max = arr.min(),arr.max()\n",
    "    return (arr-arr_min) / (arr_max-arr_min)"
   ]
  },
  {
   "cell_type": "code",
   "execution_count": 7,
   "id": "8eeaa80a-e6f4-44b3-b445-bd87d5481cd7",
   "metadata": {},
   "outputs": [],
   "source": [
    "class EuroSATMultiBandDataset(Dataset):\n",
    "    def __init__(self, img_dir , transform=None):\n",
    "        self.img_dir = img_dir\n",
    "        self.transform = transform\n",
    "        self.img_paths = []\n",
    "        self.labels = []\n",
    "        #self.target_transform = target_transform\n",
    "\n",
    "        with open(os.path.join(img_dir,\"label_map.json\"),\"r\") as file: \n",
    "            class_name_encoded = json.load(file)\n",
    "        self.classes = list(class_name_encoded.keys())\n",
    "        self.class_to_idx = {cls_name:idx for idx,cls_name in enumerate(self.classes)}\n",
    "\n",
    "        for cls in self.classes:\n",
    "            cls_dir = os.path.join(img_dir,cls)\n",
    "            if os.path.isdir(cls_dir):\n",
    "                for img_path in glob.glob(os.path.join(cls_dir,\"*.tif\")):\n",
    "                    self.img_paths.append(img_path)\n",
    "                    self.labels.append(self.class_to_idx[cls])\n",
    "\n",
    "    def __getitem__(self,idx):\n",
    "\n",
    "        img_path = self.img_paths[idx]\n",
    "        label = self.labels[idx]\n",
    "        with rasterio.open(img_path) as dataset:\n",
    "            band2 = dataset.read(2)  # Blue\n",
    "            band3 = dataset.read(3)  # Green\n",
    "            band4 = dataset.read(4)  # Red\n",
    "            band8 = dataset.read(8)  # NIR\n",
    "            band11 = dataset.read(11) # SWIR1\n",
    "            band12 = dataset.read(12) # SWIR2\n",
    "    \n",
    "            bands = [band2, band3, band4, band8, band11, band12]\n",
    "            normalized_band = [normalize(band) for band in bands]\n",
    "    \n",
    "            #axis -1 for [h,w,vol], else it will be [vol,h,w]\n",
    "            stacked_image = np.stack(normalized_band, axis =-1)\n",
    "        if self.transform:\n",
    "            stacked_image = self.transform(stacked_image)\n",
    "        return stacked_image,label\n",
    "        \n",
    "    def __len__(self):\n",
    "        return len(self.img_paths)\n",
    "\n",
    "        \n",
    "        \n",
    "    "
   ]
  },
  {
   "cell_type": "markdown",
   "id": "d1932fff-3577-40ab-89a2-a250adcd425e",
   "metadata": {},
   "source": [
    "#### Test Dataloader "
   ]
  },
  {
   "cell_type": "code",
   "execution_count": 8,
   "id": "0b788068-7e88-4b30-8a83-858253b07309",
   "metadata": {},
   "outputs": [
    {
     "name": "stdout",
     "output_type": "stream",
     "text": [
      "Image shape: torch.Size([6, 64, 64]), Label: 0\n"
     ]
    }
   ],
   "source": [
    "root_dir = 'datasets/EuroSATallBands/'\n",
    "transform = transforms.Compose([\n",
    "    transforms.ToTensor(),  # Converts to a tensor and scales values to [0, 1]\n",
    "    transforms.ConvertImageDtype(torch.float32),\n",
    "])\n",
    "dataset = EuroSATMultiBandDataset(root_dir, transform=transform)\n",
    "sample_image, sample_label = dataset[0]\n",
    "print(f\"Image shape: {sample_image.shape}, Label: {sample_label}\")\n",
    "\n"
   ]
  },
  {
   "cell_type": "markdown",
   "id": "7a18276c-0c2c-4825-8f41-576793ae82d0",
   "metadata": {},
   "source": [
    "# Time to run our model"
   ]
  },
  {
   "cell_type": "code",
   "execution_count": 9,
   "id": "bc14449e-db02-4377-b4c0-b8de502b33d0",
   "metadata": {},
   "outputs": [],
   "source": [
    "#initialized dataset\n",
    "root_dir = 'datasets/EuroSATallBands/'\n",
    "dataset = EuroSATMultiBandDataset(root_dir, transform=transform)\n"
   ]
  },
  {
   "cell_type": "code",
   "execution_count": 10,
   "id": "36b8351b-76bd-45cc-9edb-d1222b179b19",
   "metadata": {},
   "outputs": [],
   "source": [
    "train_size = int(0.9 * len(dataset))\n",
    "val_size = len(dataset) - train_size\n",
    "train_dataset, val_dataset = random_split(dataset, [train_size, val_size])\n",
    "\n",
    "\n",
    "dataloader = DataLoader(train_dataset, batch_size=32, shuffle=True)\n",
    "val_loader = DataLoader(val_dataset, batch_size=32, shuffle=False)\n",
    "\n"
   ]
  },
  {
   "cell_type": "code",
   "execution_count": 11,
   "id": "7148c413-7dc7-446e-93ee-9e70eee5f02b",
   "metadata": {},
   "outputs": [],
   "source": [
    "#initilized model\n",
    "model = models.convnext_tiny(weights='DEFAULT')\n",
    "model.features[0][0] = nn.Conv2d(6, 96, kernel_size=(4, 4), stride=(4, 4))\n",
    "model.classifier[2] = nn.Linear(model.classifier[2].in_features,10)\n"
   ]
  },
  {
   "cell_type": "code",
   "execution_count": 12,
   "id": "7a703422-a9fc-4429-b2ae-41c41d88293b",
   "metadata": {},
   "outputs": [],
   "source": [
    "criterion = nn.CrossEntropyLoss()\n",
    "optimizer = optim.Adam(model.parameters(), lr=0.001)"
   ]
  },
  {
   "cell_type": "code",
   "execution_count": 13,
   "id": "337955ba-ef86-4636-b4a1-0726d4b83c96",
   "metadata": {
    "scrolled": true
   },
   "outputs": [
    {
     "data": {
      "text/plain": [
       "ConvNeXt(\n",
       "  (features): Sequential(\n",
       "    (0): Conv2dNormActivation(\n",
       "      (0): Conv2d(6, 96, kernel_size=(4, 4), stride=(4, 4))\n",
       "      (1): LayerNorm2d((96,), eps=1e-06, elementwise_affine=True)\n",
       "    )\n",
       "    (1): Sequential(\n",
       "      (0): CNBlock(\n",
       "        (block): Sequential(\n",
       "          (0): Conv2d(96, 96, kernel_size=(7, 7), stride=(1, 1), padding=(3, 3), groups=96)\n",
       "          (1): Permute()\n",
       "          (2): LayerNorm((96,), eps=1e-06, elementwise_affine=True)\n",
       "          (3): Linear(in_features=96, out_features=384, bias=True)\n",
       "          (4): GELU(approximate='none')\n",
       "          (5): Linear(in_features=384, out_features=96, bias=True)\n",
       "          (6): Permute()\n",
       "        )\n",
       "        (stochastic_depth): StochasticDepth(p=0.0, mode=row)\n",
       "      )\n",
       "      (1): CNBlock(\n",
       "        (block): Sequential(\n",
       "          (0): Conv2d(96, 96, kernel_size=(7, 7), stride=(1, 1), padding=(3, 3), groups=96)\n",
       "          (1): Permute()\n",
       "          (2): LayerNorm((96,), eps=1e-06, elementwise_affine=True)\n",
       "          (3): Linear(in_features=96, out_features=384, bias=True)\n",
       "          (4): GELU(approximate='none')\n",
       "          (5): Linear(in_features=384, out_features=96, bias=True)\n",
       "          (6): Permute()\n",
       "        )\n",
       "        (stochastic_depth): StochasticDepth(p=0.0058823529411764705, mode=row)\n",
       "      )\n",
       "      (2): CNBlock(\n",
       "        (block): Sequential(\n",
       "          (0): Conv2d(96, 96, kernel_size=(7, 7), stride=(1, 1), padding=(3, 3), groups=96)\n",
       "          (1): Permute()\n",
       "          (2): LayerNorm((96,), eps=1e-06, elementwise_affine=True)\n",
       "          (3): Linear(in_features=96, out_features=384, bias=True)\n",
       "          (4): GELU(approximate='none')\n",
       "          (5): Linear(in_features=384, out_features=96, bias=True)\n",
       "          (6): Permute()\n",
       "        )\n",
       "        (stochastic_depth): StochasticDepth(p=0.011764705882352941, mode=row)\n",
       "      )\n",
       "    )\n",
       "    (2): Sequential(\n",
       "      (0): LayerNorm2d((96,), eps=1e-06, elementwise_affine=True)\n",
       "      (1): Conv2d(96, 192, kernel_size=(2, 2), stride=(2, 2))\n",
       "    )\n",
       "    (3): Sequential(\n",
       "      (0): CNBlock(\n",
       "        (block): Sequential(\n",
       "          (0): Conv2d(192, 192, kernel_size=(7, 7), stride=(1, 1), padding=(3, 3), groups=192)\n",
       "          (1): Permute()\n",
       "          (2): LayerNorm((192,), eps=1e-06, elementwise_affine=True)\n",
       "          (3): Linear(in_features=192, out_features=768, bias=True)\n",
       "          (4): GELU(approximate='none')\n",
       "          (5): Linear(in_features=768, out_features=192, bias=True)\n",
       "          (6): Permute()\n",
       "        )\n",
       "        (stochastic_depth): StochasticDepth(p=0.017647058823529415, mode=row)\n",
       "      )\n",
       "      (1): CNBlock(\n",
       "        (block): Sequential(\n",
       "          (0): Conv2d(192, 192, kernel_size=(7, 7), stride=(1, 1), padding=(3, 3), groups=192)\n",
       "          (1): Permute()\n",
       "          (2): LayerNorm((192,), eps=1e-06, elementwise_affine=True)\n",
       "          (3): Linear(in_features=192, out_features=768, bias=True)\n",
       "          (4): GELU(approximate='none')\n",
       "          (5): Linear(in_features=768, out_features=192, bias=True)\n",
       "          (6): Permute()\n",
       "        )\n",
       "        (stochastic_depth): StochasticDepth(p=0.023529411764705882, mode=row)\n",
       "      )\n",
       "      (2): CNBlock(\n",
       "        (block): Sequential(\n",
       "          (0): Conv2d(192, 192, kernel_size=(7, 7), stride=(1, 1), padding=(3, 3), groups=192)\n",
       "          (1): Permute()\n",
       "          (2): LayerNorm((192,), eps=1e-06, elementwise_affine=True)\n",
       "          (3): Linear(in_features=192, out_features=768, bias=True)\n",
       "          (4): GELU(approximate='none')\n",
       "          (5): Linear(in_features=768, out_features=192, bias=True)\n",
       "          (6): Permute()\n",
       "        )\n",
       "        (stochastic_depth): StochasticDepth(p=0.029411764705882353, mode=row)\n",
       "      )\n",
       "    )\n",
       "    (4): Sequential(\n",
       "      (0): LayerNorm2d((192,), eps=1e-06, elementwise_affine=True)\n",
       "      (1): Conv2d(192, 384, kernel_size=(2, 2), stride=(2, 2))\n",
       "    )\n",
       "    (5): Sequential(\n",
       "      (0): CNBlock(\n",
       "        (block): Sequential(\n",
       "          (0): Conv2d(384, 384, kernel_size=(7, 7), stride=(1, 1), padding=(3, 3), groups=384)\n",
       "          (1): Permute()\n",
       "          (2): LayerNorm((384,), eps=1e-06, elementwise_affine=True)\n",
       "          (3): Linear(in_features=384, out_features=1536, bias=True)\n",
       "          (4): GELU(approximate='none')\n",
       "          (5): Linear(in_features=1536, out_features=384, bias=True)\n",
       "          (6): Permute()\n",
       "        )\n",
       "        (stochastic_depth): StochasticDepth(p=0.03529411764705883, mode=row)\n",
       "      )\n",
       "      (1): CNBlock(\n",
       "        (block): Sequential(\n",
       "          (0): Conv2d(384, 384, kernel_size=(7, 7), stride=(1, 1), padding=(3, 3), groups=384)\n",
       "          (1): Permute()\n",
       "          (2): LayerNorm((384,), eps=1e-06, elementwise_affine=True)\n",
       "          (3): Linear(in_features=384, out_features=1536, bias=True)\n",
       "          (4): GELU(approximate='none')\n",
       "          (5): Linear(in_features=1536, out_features=384, bias=True)\n",
       "          (6): Permute()\n",
       "        )\n",
       "        (stochastic_depth): StochasticDepth(p=0.0411764705882353, mode=row)\n",
       "      )\n",
       "      (2): CNBlock(\n",
       "        (block): Sequential(\n",
       "          (0): Conv2d(384, 384, kernel_size=(7, 7), stride=(1, 1), padding=(3, 3), groups=384)\n",
       "          (1): Permute()\n",
       "          (2): LayerNorm((384,), eps=1e-06, elementwise_affine=True)\n",
       "          (3): Linear(in_features=384, out_features=1536, bias=True)\n",
       "          (4): GELU(approximate='none')\n",
       "          (5): Linear(in_features=1536, out_features=384, bias=True)\n",
       "          (6): Permute()\n",
       "        )\n",
       "        (stochastic_depth): StochasticDepth(p=0.047058823529411764, mode=row)\n",
       "      )\n",
       "      (3): CNBlock(\n",
       "        (block): Sequential(\n",
       "          (0): Conv2d(384, 384, kernel_size=(7, 7), stride=(1, 1), padding=(3, 3), groups=384)\n",
       "          (1): Permute()\n",
       "          (2): LayerNorm((384,), eps=1e-06, elementwise_affine=True)\n",
       "          (3): Linear(in_features=384, out_features=1536, bias=True)\n",
       "          (4): GELU(approximate='none')\n",
       "          (5): Linear(in_features=1536, out_features=384, bias=True)\n",
       "          (6): Permute()\n",
       "        )\n",
       "        (stochastic_depth): StochasticDepth(p=0.052941176470588235, mode=row)\n",
       "      )\n",
       "      (4): CNBlock(\n",
       "        (block): Sequential(\n",
       "          (0): Conv2d(384, 384, kernel_size=(7, 7), stride=(1, 1), padding=(3, 3), groups=384)\n",
       "          (1): Permute()\n",
       "          (2): LayerNorm((384,), eps=1e-06, elementwise_affine=True)\n",
       "          (3): Linear(in_features=384, out_features=1536, bias=True)\n",
       "          (4): GELU(approximate='none')\n",
       "          (5): Linear(in_features=1536, out_features=384, bias=True)\n",
       "          (6): Permute()\n",
       "        )\n",
       "        (stochastic_depth): StochasticDepth(p=0.058823529411764705, mode=row)\n",
       "      )\n",
       "      (5): CNBlock(\n",
       "        (block): Sequential(\n",
       "          (0): Conv2d(384, 384, kernel_size=(7, 7), stride=(1, 1), padding=(3, 3), groups=384)\n",
       "          (1): Permute()\n",
       "          (2): LayerNorm((384,), eps=1e-06, elementwise_affine=True)\n",
       "          (3): Linear(in_features=384, out_features=1536, bias=True)\n",
       "          (4): GELU(approximate='none')\n",
       "          (5): Linear(in_features=1536, out_features=384, bias=True)\n",
       "          (6): Permute()\n",
       "        )\n",
       "        (stochastic_depth): StochasticDepth(p=0.06470588235294118, mode=row)\n",
       "      )\n",
       "      (6): CNBlock(\n",
       "        (block): Sequential(\n",
       "          (0): Conv2d(384, 384, kernel_size=(7, 7), stride=(1, 1), padding=(3, 3), groups=384)\n",
       "          (1): Permute()\n",
       "          (2): LayerNorm((384,), eps=1e-06, elementwise_affine=True)\n",
       "          (3): Linear(in_features=384, out_features=1536, bias=True)\n",
       "          (4): GELU(approximate='none')\n",
       "          (5): Linear(in_features=1536, out_features=384, bias=True)\n",
       "          (6): Permute()\n",
       "        )\n",
       "        (stochastic_depth): StochasticDepth(p=0.07058823529411766, mode=row)\n",
       "      )\n",
       "      (7): CNBlock(\n",
       "        (block): Sequential(\n",
       "          (0): Conv2d(384, 384, kernel_size=(7, 7), stride=(1, 1), padding=(3, 3), groups=384)\n",
       "          (1): Permute()\n",
       "          (2): LayerNorm((384,), eps=1e-06, elementwise_affine=True)\n",
       "          (3): Linear(in_features=384, out_features=1536, bias=True)\n",
       "          (4): GELU(approximate='none')\n",
       "          (5): Linear(in_features=1536, out_features=384, bias=True)\n",
       "          (6): Permute()\n",
       "        )\n",
       "        (stochastic_depth): StochasticDepth(p=0.07647058823529412, mode=row)\n",
       "      )\n",
       "      (8): CNBlock(\n",
       "        (block): Sequential(\n",
       "          (0): Conv2d(384, 384, kernel_size=(7, 7), stride=(1, 1), padding=(3, 3), groups=384)\n",
       "          (1): Permute()\n",
       "          (2): LayerNorm((384,), eps=1e-06, elementwise_affine=True)\n",
       "          (3): Linear(in_features=384, out_features=1536, bias=True)\n",
       "          (4): GELU(approximate='none')\n",
       "          (5): Linear(in_features=1536, out_features=384, bias=True)\n",
       "          (6): Permute()\n",
       "        )\n",
       "        (stochastic_depth): StochasticDepth(p=0.0823529411764706, mode=row)\n",
       "      )\n",
       "    )\n",
       "    (6): Sequential(\n",
       "      (0): LayerNorm2d((384,), eps=1e-06, elementwise_affine=True)\n",
       "      (1): Conv2d(384, 768, kernel_size=(2, 2), stride=(2, 2))\n",
       "    )\n",
       "    (7): Sequential(\n",
       "      (0): CNBlock(\n",
       "        (block): Sequential(\n",
       "          (0): Conv2d(768, 768, kernel_size=(7, 7), stride=(1, 1), padding=(3, 3), groups=768)\n",
       "          (1): Permute()\n",
       "          (2): LayerNorm((768,), eps=1e-06, elementwise_affine=True)\n",
       "          (3): Linear(in_features=768, out_features=3072, bias=True)\n",
       "          (4): GELU(approximate='none')\n",
       "          (5): Linear(in_features=3072, out_features=768, bias=True)\n",
       "          (6): Permute()\n",
       "        )\n",
       "        (stochastic_depth): StochasticDepth(p=0.08823529411764706, mode=row)\n",
       "      )\n",
       "      (1): CNBlock(\n",
       "        (block): Sequential(\n",
       "          (0): Conv2d(768, 768, kernel_size=(7, 7), stride=(1, 1), padding=(3, 3), groups=768)\n",
       "          (1): Permute()\n",
       "          (2): LayerNorm((768,), eps=1e-06, elementwise_affine=True)\n",
       "          (3): Linear(in_features=768, out_features=3072, bias=True)\n",
       "          (4): GELU(approximate='none')\n",
       "          (5): Linear(in_features=3072, out_features=768, bias=True)\n",
       "          (6): Permute()\n",
       "        )\n",
       "        (stochastic_depth): StochasticDepth(p=0.09411764705882353, mode=row)\n",
       "      )\n",
       "      (2): CNBlock(\n",
       "        (block): Sequential(\n",
       "          (0): Conv2d(768, 768, kernel_size=(7, 7), stride=(1, 1), padding=(3, 3), groups=768)\n",
       "          (1): Permute()\n",
       "          (2): LayerNorm((768,), eps=1e-06, elementwise_affine=True)\n",
       "          (3): Linear(in_features=768, out_features=3072, bias=True)\n",
       "          (4): GELU(approximate='none')\n",
       "          (5): Linear(in_features=3072, out_features=768, bias=True)\n",
       "          (6): Permute()\n",
       "        )\n",
       "        (stochastic_depth): StochasticDepth(p=0.1, mode=row)\n",
       "      )\n",
       "    )\n",
       "  )\n",
       "  (avgpool): AdaptiveAvgPool2d(output_size=1)\n",
       "  (classifier): Sequential(\n",
       "    (0): LayerNorm2d((768,), eps=1e-06, elementwise_affine=True)\n",
       "    (1): Flatten(start_dim=1, end_dim=-1)\n",
       "    (2): Linear(in_features=768, out_features=10, bias=True)\n",
       "  )\n",
       ")"
      ]
     },
     "execution_count": 13,
     "metadata": {},
     "output_type": "execute_result"
    }
   ],
   "source": [
    "device = torch.device('cuda:0' if torch.cuda.is_available() else 'cpu')\n",
    "model.to(device)\n"
   ]
  },
  {
   "cell_type": "code",
   "execution_count": null,
   "id": "2271d429-5bc4-473a-aea8-a8b06f1ad237",
   "metadata": {
    "scrolled": true
   },
   "outputs": [],
   "source": [
    "num_epochs = 100\n",
    "\n",
    "for epoch in range(num_epochs):\n",
    "    model.train()\n",
    "    running_loss = 0.0\n",
    "    \n",
    "    progress_bar = tqdm(dataloader, desc=f'Epoch {epoch+1}/{num_epochs}', unit='batch')\n",
    "\n",
    "    for images, labels in progress_bar:\n",
    "        images, labels = images.to(device), labels.to(device)\n",
    "        optimizer.zero_grad()\n",
    "        #print(\"test\")\n",
    "        outputs = model(images)\n",
    "        loss = criterion(outputs, labels)\n",
    "        \n",
    "        loss.backward()\n",
    "        optimizer.step()\n",
    "        \n",
    "        running_loss += loss.item()\n",
    "\n",
    "        progress_bar.set_postfix(loss=running_loss/len(progress_bar))\n",
    "        \n",
    "    print(f\"Epoch [{epoch+1}/{num_epochs}], Loss: {running_loss/len(dataloader)}\")\n",
    "    if (epoch + 1) % 10 == 0:\n",
    "        # \n",
    "        torch.save(model.state_dict(), f'weights/convnext_model_epoch_{epoch+1}.pth')\n",
    "\n",
    "print(\"Finished Training\")"
   ]
  },
  {
   "cell_type": "markdown",
   "id": "80a26e8f-bf68-40a5-9086-302daa7fba07",
   "metadata": {},
   "source": [
    "# Evaluate the trained model"
   ]
  },
  {
   "cell_type": "code",
   "execution_count": 24,
   "id": "06cbb3fe-f644-4e33-b81d-64b0d9f69203",
   "metadata": {},
   "outputs": [
    {
     "name": "stderr",
     "output_type": "stream",
     "text": [
      "                                                                                                                                                                                                                                                                                                  \r"
     ]
    },
    {
     "name": "stdout",
     "output_type": "stream",
     "text": [
      "Accuracy : 95.03623188405797\n",
      "Precision : 0.9485133029956379\n",
      "Recall : 0.9501397577128575\n"
     ]
    },
    {
     "data": {
      "image/png": "[encoded data removed]",
      "text/plain": [
       "<Figure size 640x480 with 2 Axes>"
      ]
     },
     "metadata": {},
     "output_type": "display_data"
    }
   ],
   "source": [
    "model.load_state_dict(torch.load('weights/convnext_model_epoch_100.pth'))\n",
    "model.eval()  # Set the model to evaluation mode\n",
    "model.to(device)\n",
    "val_loss = 0.0\n",
    "correct = 0\n",
    "total = 0\n",
    "all_labels = []\n",
    "all_predictions = []\n",
    "with torch.no_grad():\n",
    "    for inputs, labels in tqdm(val_loader, desc='Evaluating', leave=False):\n",
    "        inputs, labels = inputs.to(device), labels.to(device)\n",
    "        outputs = model(inputs)\n",
    "        loss = criterion(outputs, labels)\n",
    "        val_loss += loss.item()\n",
    "        _, predicted = torch.max(outputs, 1)\n",
    "        total += labels.size(0)\n",
    "        correct += (predicted == labels).sum().item()\n",
    "        all_labels.extend(labels.cpu().numpy())\n",
    "        all_predictions.extend(predicted.cpu().numpy())\n",
    "\n",
    "accuracy = 100 * correct / total\n",
    "precision = precision_score(all_labels, all_predictions, average='macro')\n",
    "recall = recall_score(all_labels, all_predictions, average='macro')\n",
    "cm = confusion_matrix(all_labels, all_predictions)\n",
    "\n",
    "# Display confusion matrix\n",
    "disp = ConfusionMatrixDisplay(confusion_matrix=cm, display_labels=range(10))\n",
    "disp.plot(cmap='Blues')\n",
    "\n",
    "print(\"Accuracy :\",accuracy)\n",
    "print(\"Precision :\" ,precision)\n",
    "print(\"Recall :\", recall)\n"
   ]
  }
 ],
 "metadata": {
  "kernelspec": {
   "display_name": "Python 3 (ipykernel)",
   "language": "python",
   "name": "python3"
  },
  "language_info": {
   "codemirror_mode": {
    "name": "ipython",
    "version": 3
   },
   "file_extension": ".py",
   "mimetype": "text/x-python",
   "name": "python",
   "nbconvert_exporter": "python",
   "pygments_lexer": "ipython3",
   "version": "3.11.9"
  }
 },
 "nbformat": 4,
 "nbformat_minor": 5
}
