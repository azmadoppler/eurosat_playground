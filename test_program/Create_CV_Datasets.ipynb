{
 "cells": [
  {
   "cell_type": "code",
   "execution_count": 17,
   "id": "d5c93d83",
   "metadata": {},
   "outputs": [],
   "source": [
    "import os\n",
    "import shutil\n",
    "\n",
    "def combine_folders(source_folders, destination_folder):\n",
    "    # Create the destination folder if it doesn't exist\n",
    "    if not os.path.exists(destination_folder):\n",
    "        os.makedirs(destination_folder)\n",
    "\n",
    "    # Iterate through each source folder\n",
    "    for source_folder in source_folders:\n",
    "        # Traverse through the source folder and its subdirectories to find all files and folders\n",
    "        for root, dirs, files in os.walk(source_folder):\n",
    "            # Create corresponding subdirectories in the destination folder\n",
    "            dest_subfolder = os.path.join(destination_folder, os.path.relpath(root, source_folder))\n",
    "            if not os.path.exists(dest_subfolder):\n",
    "                os.makedirs(dest_subfolder)\n",
    "\n",
    "            # Copy files to the destination folder\n",
    "            for file in files:\n",
    "                src_path = os.path.join(root, file)\n",
    "                dest_path = os.path.join(dest_subfolder, file)\n",
    "                shutil.copy(src_path, dest_path)\n",
    "\n",
    "if __name__ == \"__main__\":\n",
    "    # Replace 'source_folders' with a list of folder directories you want to combine\n",
    "    source_folders = [\"cross_val_test/50%_CV/Fold_6\", \"cross_val_test/50%_CV/Fold_7\", \"cross_val_test/50%_CV/Fold_8\", \"cross_val_test/50%_CV/Fold_9\"\n",
    "                      ]#, \"cross_val_test/50%_CV/Fold_5\"]\n",
    "    # Replace 'destination_folder' with the path to the folder where you want to combine the contents\n",
    "    destination_folder = \"cross_val_test/50%_CV/test\"\n",
    "    #combine_folders(source_folders, destination_folder)"
   ]
  },
  {
   "cell_type": "code",
   "execution_count": 55,
   "id": "aa1b2c5d",
   "metadata": {},
   "outputs": [
    {
     "name": "stdout",
     "output_type": "stream",
     "text": [
      "wtf 0\n",
      "wtf 1\n",
      "wtf 2\n",
      "wtf 3\n",
      "wtf 4\n",
      "5\n",
      "6\n",
      "7\n",
      "8\n",
      "wtf 1\n",
      "wtf 2\n",
      "wtf 3\n",
      "wtf 4\n",
      "wtf 5\n",
      "6\n",
      "7\n",
      "8\n",
      "9\n",
      "wtf 2\n",
      "wtf 3\n",
      "wtf 4\n",
      "wtf 5\n",
      "wtf 6\n",
      "7\n",
      "8\n",
      "9\n",
      "0\n",
      "wtf 3\n",
      "wtf 4\n",
      "wtf 5\n",
      "wtf 6\n",
      "wtf 7\n",
      "8\n",
      "9\n",
      "0\n",
      "1\n",
      "wtf 4\n",
      "wtf 5\n",
      "wtf 6\n",
      "wtf 7\n",
      "wtf 8\n",
      "9\n",
      "0\n",
      "1\n",
      "2\n",
      "wtf 5\n",
      "wtf 6\n",
      "wtf 7\n",
      "wtf 8\n",
      "wtf 9\n",
      "0\n",
      "1\n",
      "2\n",
      "3\n",
      "wtf 6\n",
      "wtf 7\n",
      "wtf 8\n",
      "wtf 9\n",
      "wtf 10\n",
      "1\n",
      "2\n",
      "3\n",
      "4\n",
      "wtf 7\n",
      "wtf 8\n",
      "wtf 9\n",
      "wtf 10\n",
      "wtf 11\n",
      "2\n",
      "3\n",
      "4\n",
      "5\n",
      "wtf 8\n",
      "wtf 9\n",
      "wtf 10\n",
      "wtf 11\n",
      "wtf 12\n",
      "3\n",
      "4\n",
      "5\n",
      "6\n",
      "wtf 9\n",
      "wtf 10\n",
      "wtf 11\n",
      "wtf 12\n",
      "wtf 13\n",
      "4\n",
      "5\n",
      "6\n",
      "7\n"
     ]
    }
   ],
   "source": [
    "base_name = 'cross_val_test/'\n",
    "for i in range(0,10):\n",
    "    #create train\n",
    "    current_fold_name = '50%_Fold_' +str(i%10)\n",
    "    train_folders = []\n",
    "    j = i\n",
    "    base_dest_folder = os.path.join(base_name,current_fold_name)\n",
    "    for j in range(j,j+5):\n",
    "        print('wtf',j)\n",
    "\n",
    "        folder = os.path.join(base_name,'Fold_'+str(j%10))\n",
    "        train_folders.append(folder)\n",
    "    \n",
    "    temp_train_folder = os.path.join(base_dest_folder,'train')\n",
    "    combine_folders(train_folders, temp_train_folder)\n",
    "    \n",
    "    #create unlabel\n",
    "    \n",
    "    \n",
    "    unlabel_folders = []\n",
    "    k=(j%10) + 1 \n",
    "    for k in range(k,k+4):\n",
    "        print(k%10)\n",
    "        folder = os.path.join(base_name,'Fold_'+str(k%10))\n",
    "        unlabel_folders.append(folder)\n",
    "    temp_unlabel_folder = os.path.join(base_dest_folder,'unlabeled')\n",
    "    combine_folders(unlabel_folders, temp_unlabel_folder)\n",
    "        \n",
    "    \n",
    "    #create test\n",
    "    \n",
    "    l = (k%10)+1\n",
    "    test_folders = []\n",
    "    test_folder = os.path.join(base_name,'Fold_'+str(l%10))\n",
    "    test_folders.append(test_folder)\n",
    "    temp_test_folder = os.path.join(base_dest_folder,'test')\n",
    "    \n",
    "    combine_folders(test_folders,temp_test_folder)\n",
    "    \n",
    "    "
   ]
  },
  {
   "cell_type": "code",
   "execution_count": 50,
   "id": "9946a0c3",
   "metadata": {},
   "outputs": [
    {
     "data": {
      "text/plain": [
       "'cross_val_test/30%_Fold_0/test'"
      ]
     },
     "execution_count": 50,
     "metadata": {},
     "output_type": "execute_result"
    }
   ],
   "source": [
    "temp_test_folder"
   ]
  },
  {
   "cell_type": "code",
   "execution_count": 31,
   "id": "7abcbd5d",
   "metadata": {},
   "outputs": [
    {
     "data": {
      "text/plain": [
       "'cross_val_test/30%_Fold_0'"
      ]
     },
     "execution_count": 31,
     "metadata": {},
     "output_type": "execute_result"
    }
   ],
   "source": [
    "train_dest_folder"
   ]
  },
  {
   "cell_type": "code",
   "execution_count": 26,
   "id": "5024960c",
   "metadata": {},
   "outputs": [
    {
     "data": {
      "text/plain": [
       "['cross_val_test/Fold_9', 'cross_val_test/Fold_0', 'cross_val_test/Fold_1']"
      ]
     },
     "execution_count": 26,
     "metadata": {},
     "output_type": "execute_result"
    }
   ],
   "source": [
    "train_folders"
   ]
  }
 ],
 "metadata": {
  "kernelspec": {
   "display_name": "Python 3 (ipykernel)",
   "language": "python",
   "name": "python3"
  },
  "language_info": {
   "codemirror_mode": {
    "name": "ipython",
    "version": 3
   },
   "file_extension": ".py",
   "mimetype": "text/x-python",
   "name": "python",
   "nbconvert_exporter": "python",
   "pygments_lexer": "ipython3",
   "version": "3.8.16"
  }
 },
 "nbformat": 4,
 "nbformat_minor": 5
}
