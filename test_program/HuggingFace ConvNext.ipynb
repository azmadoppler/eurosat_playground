{
 "cells": [
  {
   "cell_type": "markdown",
   "id": "367b93db",
   "metadata": {},
   "source": [
    "!conda install -y datasets\n",
    "!conda install -c huggingface transformers\n"
   ]
  },
  {
   "cell_type": "markdown",
   "id": "f846f794",
   "metadata": {},
   "source": [
    "# Document Links\n",
    "\n",
    "https://huggingface.co/docs/transformers/main/en/model_doc/convnext"
   ]
  },
  {
   "cell_type": "code",
   "execution_count": 1,
   "id": "cbf05b6b",
   "metadata": {},
   "outputs": [],
   "source": [
    "from transformers import ConvNextImageProcessor, ConvNextForImageClassification\n",
    "import torch\n",
    "from datasets import load_dataset"
   ]
  },
  {
   "cell_type": "code",
   "execution_count": 2,
   "id": "640c775f",
   "metadata": {},
   "outputs": [
    {
     "name": "stderr",
     "output_type": "stream",
     "text": [
      "No config specified, defaulting to: cats-image/image\n",
      "Found cached dataset cats-image (C:/Users/thanawit/.cache/huggingface/datasets/huggingface___cats-image/image/1.9.0/68fbc793fb10cd165e490867f5d61fa366086ea40c73e549a020103dcb4f597e)\n"
     ]
    },
    {
     "data": {
      "application/vnd.jupyter.widget-view+json": {
       "model_id": "f881a987b8b74712865d8dc479196902",
       "version_major": 2,
       "version_minor": 0
      },
      "text/plain": [
       "  0%|          | 0/1 [00:00<?, ?it/s]"
      ]
     },
     "metadata": {},
     "output_type": "display_data"
    }
   ],
   "source": [
    "dataset = load_dataset(\"huggingface/cats-image\")\n",
    "image = dataset[\"test\"][\"image\"][0]"
   ]
  },
  {
   "cell_type": "code",
   "execution_count": 3,
   "id": "dcd10106",
   "metadata": {},
   "outputs": [],
   "source": [
    "processor = ConvNextImageProcessor.from_pretrained(\"facebook/convnext-large-224\")\n",
    "model = ConvNextForImageClassification.from_pretrained(\"facebook/convnext-large-224\")\n"
   ]
  },
  {
   "cell_type": "code",
   "execution_count": 4,
   "id": "cd59e029",
   "metadata": {},
   "outputs": [],
   "source": [
    "inputs = processor(image, return_tensors=\"pt\")\n",
    "\n",
    "with torch.no_grad():\n",
    "    logits = model(**inputs).logits\n"
   ]
  },
  {
   "cell_type": "code",
   "execution_count": 5,
   "id": "ec3e40e4",
   "metadata": {},
   "outputs": [
    {
     "name": "stdout",
     "output_type": "stream",
     "text": [
      "tabby, tabby cat\n"
     ]
    },
    {
     "data": {
      "text/plain": [
       "(None,)"
      ]
     },
     "execution_count": 5,
     "metadata": {},
     "output_type": "execute_result"
    }
   ],
   "source": [
    "# model predicts one of the 1000 ImageNet classes\n",
    "predicted_label = logits.argmax(-1).item()\n",
    "print(model.config.id2label[predicted_label]),"
   ]
  }
 ],
 "metadata": {
  "kernelspec": {
   "display_name": "Python 3 (ipykernel)",
   "language": "python",
   "name": "python3"
  },
  "language_info": {
   "codemirror_mode": {
    "name": "ipython",
    "version": 3
   },
   "file_extension": ".py",
   "mimetype": "text/x-python",
   "name": "python",
   "nbconvert_exporter": "python",
   "pygments_lexer": "ipython3",
   "version": "3.8.16"
  }
 },
 "nbformat": 4,
 "nbformat_minor": 5
}
