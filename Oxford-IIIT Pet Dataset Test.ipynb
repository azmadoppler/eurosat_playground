{
 "cells": [
  {
   "cell_type": "code",
   "execution_count": 39,
   "id": "4844a0c3-0140-4ecd-9740-b56c0467b264",
   "metadata": {},
   "outputs": [],
   "source": [
    "\n",
    "import torch\n",
    "import torch.nn.functional as F\n",
    "from torch.utils.data import DataLoader\n",
    "from torchvision import datasets, transforms\n",
    "import numpy as np\n",
    "from tqdm import tqdm\n",
    "import torch\n",
    "import torch.nn as nn\n",
    "import torch.optim as optim\n",
    "from torch.utils.data import Dataset, DataLoader\n",
    "import torchvision.transforms as transforms\n",
    "from PIL import Image\n",
    "import os"
   ]
  },
  {
   "cell_type": "code",
   "execution_count": 27,
   "id": "260cb1d4-1cf5-484f-a189-bd0324e6e904",
   "metadata": {},
   "outputs": [],
   "source": [
    "\n",
    "# U-Net Model\n",
    "class UNet(nn.Module):\n",
    "    def __init__(self):\n",
    "        super(UNet, self).__init__()\n",
    "        \n",
    "        def CBR(in_channels, out_channels):\n",
    "            return nn.Sequential(\n",
    "                nn.Conv2d(in_channels, out_channels, kernel_size=3, padding=1),\n",
    "                nn.BatchNorm2d(out_channels),\n",
    "                nn.ReLU(inplace=True)\n",
    "            )\n",
    "        \n",
    "        self.enc1 = CBR(3, 64)\n",
    "        self.enc2 = CBR(64, 128)\n",
    "        self.enc3 = CBR(128, 256)\n",
    "        self.enc4 = CBR(256, 512)\n",
    "        \n",
    "        self.pool = nn.MaxPool2d(2, 2)\n",
    "        \n",
    "        self.bottleneck = CBR(512, 1024)\n",
    "        \n",
    "        self.upconv4 = nn.ConvTranspose2d(1024, 512, kernel_size=2, stride=2)\n",
    "        self.dec4 = CBR(1024, 512)\n",
    "        self.upconv3 = nn.ConvTranspose2d(512, 256, kernel_size=2, stride=2)\n",
    "        self.dec3 = CBR(512, 256)\n",
    "        self.upconv2 = nn.ConvTranspose2d(256, 128, kernel_size=2, stride=2)\n",
    "        self.dec2 = CBR(256, 128)\n",
    "        self.upconv1 = nn.ConvTranspose2d(128, 64, kernel_size=2, stride=2)\n",
    "        self.dec1 = CBR(128, 64)\n",
    "        \n",
    "        self.final_conv = nn.Conv2d(64, 1, kernel_size=1)\n",
    "        \n",
    "    def forward(self, x):\n",
    "        # Encoder\n",
    "        enc1 = self.enc1(x)\n",
    "        enc2 = self.enc2(self.pool(enc1))\n",
    "        enc3 = self.enc3(self.pool(enc2))\n",
    "        enc4 = self.enc4(self.pool(enc3))\n",
    "        \n",
    "        # Bottleneck\n",
    "        bottleneck = self.bottleneck(self.pool(enc4))\n",
    "        \n",
    "        # Decoder\n",
    "        dec4 = self.upconv4(bottleneck)\n",
    "        dec4 = torch.cat((dec4, enc4), dim=1)\n",
    "        dec4 = self.dec4(dec4)\n",
    "        dec3 = self.upconv3(dec4)\n",
    "        dec3 = torch.cat((dec3, enc3), dim=1)\n",
    "        dec3 = self.dec3(dec3)\n",
    "        dec2 = self.upconv2(dec3)\n",
    "        dec2 = torch.cat((dec2, enc2), dim=1)\n",
    "        dec2 = self.dec2(dec2)\n",
    "        dec1 = self.upconv1(dec2)\n",
    "        dec1 = torch.cat((dec1, enc1), dim=1)\n",
    "        dec1 = self.dec1(dec1)\n",
    "        \n",
    "        return torch.sigmoid(self.final_conv(dec1))\n",
    "\n",
    "# Custom Dataset\n",
    "class YUCARSDataset(Dataset):\n",
    "    def __init__(self, img_dir, mask_dir, transform=None):\n",
    "        self.img_dir = img_dir\n",
    "        self.mask_dir = mask_dir\n",
    "        self.transform = transform\n",
    "        self.img_names = os.listdir(img_dir)\n",
    "\n",
    "    def __len__(self):\n",
    "        return len(self.img_names)\n",
    "\n",
    "    def __getitem__(self, idx):\n",
    "        img_path = os.path.join(self.img_dir, self.img_names[idx])\n",
    "        mask_path = os.path.join(self.mask_dir, self.img_names[idx])  # Assuming masks have the same name as images\n",
    "        image = Image.open(img_path).convert(\"RGB\")\n",
    "        mask = Image.open(mask_path).convert(\"L\")  # Assuming mask is a grayscale image\n",
    "\n",
    "        if self.transform:\n",
    "            image = self.transform(image)\n",
    "            mask = self.transform(mask)\n",
    "\n",
    "        return image, mask\n"
   ]
  },
  {
   "cell_type": "code",
   "execution_count": 22,
   "id": "24e39b29-6abe-41f5-8b49-0a3f12da6f77",
   "metadata": {},
   "outputs": [],
   "source": [
    "import torchvision\n",
    "\n",
    "transform = transforms.Compose([\n",
    "    transforms.Resize((128, 128)),\n",
    "    transforms.ToTensor(),\n",
    "])\n",
    "\n",
    "# Load the dataset\n",
    "dataset = torchvision.datasets.OxfordIIITPet(root='data', \n",
    "                                             split='trainval', \n",
    "                                             target_types='segmentation', \n",
    "                                             download=True, \n",
    "                                             transform=transform)"
   ]
  },
  {
   "cell_type": "code",
   "execution_count": 23,
   "id": "8c8b71be-6b6d-47e1-8519-c8ea78646f75",
   "metadata": {},
   "outputs": [
    {
     "data": {
      "text/plain": [
       "UNet(\n",
       "  (enc1): Sequential(\n",
       "    (0): Conv2d(3, 64, kernel_size=(3, 3), stride=(1, 1), padding=(1, 1))\n",
       "    (1): BatchNorm2d(64, eps=1e-05, momentum=0.1, affine=True, track_running_stats=True)\n",
       "    (2): ReLU(inplace=True)\n",
       "  )\n",
       "  (enc2): Sequential(\n",
       "    (0): Conv2d(64, 128, kernel_size=(3, 3), stride=(1, 1), padding=(1, 1))\n",
       "    (1): BatchNorm2d(128, eps=1e-05, momentum=0.1, affine=True, track_running_stats=True)\n",
       "    (2): ReLU(inplace=True)\n",
       "  )\n",
       "  (enc3): Sequential(\n",
       "    (0): Conv2d(128, 256, kernel_size=(3, 3), stride=(1, 1), padding=(1, 1))\n",
       "    (1): BatchNorm2d(256, eps=1e-05, momentum=0.1, affine=True, track_running_stats=True)\n",
       "    (2): ReLU(inplace=True)\n",
       "  )\n",
       "  (enc4): Sequential(\n",
       "    (0): Conv2d(256, 512, kernel_size=(3, 3), stride=(1, 1), padding=(1, 1))\n",
       "    (1): BatchNorm2d(512, eps=1e-05, momentum=0.1, affine=True, track_running_stats=True)\n",
       "    (2): ReLU(inplace=True)\n",
       "  )\n",
       "  (pool): MaxPool2d(kernel_size=2, stride=2, padding=0, dilation=1, ceil_mode=False)\n",
       "  (bottleneck): Sequential(\n",
       "    (0): Conv2d(512, 1024, kernel_size=(3, 3), stride=(1, 1), padding=(1, 1))\n",
       "    (1): BatchNorm2d(1024, eps=1e-05, momentum=0.1, affine=True, track_running_stats=True)\n",
       "    (2): ReLU(inplace=True)\n",
       "  )\n",
       "  (upconv4): ConvTranspose2d(1024, 512, kernel_size=(2, 2), stride=(2, 2))\n",
       "  (dec4): Sequential(\n",
       "    (0): Conv2d(1024, 512, kernel_size=(3, 3), stride=(1, 1), padding=(1, 1))\n",
       "    (1): BatchNorm2d(512, eps=1e-05, momentum=0.1, affine=True, track_running_stats=True)\n",
       "    (2): ReLU(inplace=True)\n",
       "  )\n",
       "  (upconv3): ConvTranspose2d(512, 256, kernel_size=(2, 2), stride=(2, 2))\n",
       "  (dec3): Sequential(\n",
       "    (0): Conv2d(512, 256, kernel_size=(3, 3), stride=(1, 1), padding=(1, 1))\n",
       "    (1): BatchNorm2d(256, eps=1e-05, momentum=0.1, affine=True, track_running_stats=True)\n",
       "    (2): ReLU(inplace=True)\n",
       "  )\n",
       "  (upconv2): ConvTranspose2d(256, 128, kernel_size=(2, 2), stride=(2, 2))\n",
       "  (dec2): Sequential(\n",
       "    (0): Conv2d(256, 128, kernel_size=(3, 3), stride=(1, 1), padding=(1, 1))\n",
       "    (1): BatchNorm2d(128, eps=1e-05, momentum=0.1, affine=True, track_running_stats=True)\n",
       "    (2): ReLU(inplace=True)\n",
       "  )\n",
       "  (upconv1): ConvTranspose2d(128, 64, kernel_size=(2, 2), stride=(2, 2))\n",
       "  (dec1): Sequential(\n",
       "    (0): Conv2d(128, 64, kernel_size=(3, 3), stride=(1, 1), padding=(1, 1))\n",
       "    (1): BatchNorm2d(64, eps=1e-05, momentum=0.1, affine=True, track_running_stats=True)\n",
       "    (2): ReLU(inplace=True)\n",
       "  )\n",
       "  (final_conv): Conv2d(64, 1, kernel_size=(1, 1), stride=(1, 1))\n",
       ")"
      ]
     },
     "execution_count": 23,
     "metadata": {},
     "output_type": "execute_result"
    }
   ],
   "source": [
    "\n",
    "# Model, Loss, and Optimizer\n",
    "model = UNet()\n",
    "criterion = nn.BCELoss()\n",
    "optimizer = optim.Adam(model.parameters(), lr=0.001)\n",
    "\n",
    "device = torch.device('cuda:0' if torch.cuda.is_available() else 'cpu')\n",
    "model.to(device)\n"
   ]
  },
  {
   "cell_type": "code",
   "execution_count": 24,
   "id": "f48fd346-d845-4856-a196-eb8161e74147",
   "metadata": {},
   "outputs": [],
   "source": [
    "import torchvision.datasets as datasets\n",
    "transform = transforms.Compose([\n",
    "    transforms.Resize((128, 128)),  # Resize images and masks to 128x128\n",
    "    transforms.ToTensor(),          # Convert both images and masks to tensors\n",
    "])\n",
    "\n",
    "dataset = datasets.OxfordIIITPet(\n",
    "    root='data', \n",
    "    split='trainval', \n",
    "    target_types='segmentation', \n",
    "    download=True,\n",
    "    transform=transform,            # Apply transformations to the images\n",
    "    target_transform=transform      # Apply the same transformations to the segmentation masks\n",
    ")\n",
    "# Create a DataLoader for batching and shuffling\n",
    "train_loader = DataLoader(dataset, batch_size=16, shuffle=True)\n"
   ]
  },
  {
   "cell_type": "code",
   "execution_count": null,
   "id": "5392050a-a013-4ed5-b800-6794be82369b",
   "metadata": {},
   "outputs": [],
   "source": []
  },
  {
   "cell_type": "code",
   "execution_count": 25,
   "id": "d108c634-24c5-4d48-b92a-825ea91aaae8",
   "metadata": {},
   "outputs": [
    {
     "data": {
      "text/plain": [
       "Dataset OxfordIIITPet\n",
       "    Number of datapoints: 3680\n",
       "    Root location: data\n",
       "    StandardTransform\n",
       "Transform: Compose(\n",
       "               Resize(size=(128, 128), interpolation=bilinear, max_size=None, antialias=True)\n",
       "               ToTensor()\n",
       "           )\n",
       "Target transform: Compose(\n",
       "                      Resize(size=(128, 128), interpolation=bilinear, max_size=None, antialias=True)\n",
       "                      ToTensor()\n",
       "                  )"
      ]
     },
     "execution_count": 25,
     "metadata": {},
     "output_type": "execute_result"
    }
   ],
   "source": [
    "dataset"
   ]
  },
  {
   "cell_type": "code",
   "execution_count": 18,
   "id": "ba264891-7bd2-4be7-bf75-32bbb8de3863",
   "metadata": {},
   "outputs": [
    {
     "name": "stderr",
     "output_type": "stream",
     "text": [
      "Epoch 1/200: 100%|██████████████████████████████████████████████████████████████████████████████████████████████████████████████████| 230/230 [00:20<00:00, 11.49batch/s, loss=0.0423]\n"
     ]
    },
    {
     "name": "stdout",
     "output_type": "stream",
     "text": [
      "Epoch [1/200], Loss: 0.042286320840534956\n"
     ]
    },
    {
     "name": "stderr",
     "output_type": "stream",
     "text": [
      "Epoch 2/200: 100%|██████████████████████████████████████████████████████████████████████████████████████████████████████████████████| 230/230 [00:19<00:00, 11.60batch/s, loss=0.0422]\n"
     ]
    },
    {
     "name": "stdout",
     "output_type": "stream",
     "text": [
      "Epoch [2/200], Loss: 0.042241935885470844\n"
     ]
    },
    {
     "name": "stderr",
     "output_type": "stream",
     "text": [
      "Epoch 3/200: 100%|██████████████████████████████████████████████████████████████████████████████████████████████████████████████████| 230/230 [00:19<00:00, 11.67batch/s, loss=0.0422]\n"
     ]
    },
    {
     "name": "stdout",
     "output_type": "stream",
     "text": [
      "Epoch [3/200], Loss: 0.042220074553852495\n"
     ]
    },
    {
     "name": "stderr",
     "output_type": "stream",
     "text": [
      "Epoch 4/200: 100%|██████████████████████████████████████████████████████████████████████████████████████████████████████████████████| 230/230 [00:19<00:00, 11.63batch/s, loss=0.0422]\n"
     ]
    },
    {
     "name": "stdout",
     "output_type": "stream",
     "text": [
      "Epoch [4/200], Loss: 0.042202694098586624\n"
     ]
    },
    {
     "name": "stderr",
     "output_type": "stream",
     "text": [
      "Epoch 5/200: 100%|██████████████████████████████████████████████████████████████████████████████████████████████████████████████████| 230/230 [00:19<00:00, 11.67batch/s, loss=0.0422]\n"
     ]
    },
    {
     "name": "stdout",
     "output_type": "stream",
     "text": [
      "Epoch [5/200], Loss: 0.04219430597579998\n"
     ]
    },
    {
     "name": "stderr",
     "output_type": "stream",
     "text": [
      "Epoch 6/200: 100%|██████████████████████████████████████████████████████████████████████████████████████████████████████████████████| 230/230 [00:19<00:00, 11.70batch/s, loss=0.0422]\n"
     ]
    },
    {
     "name": "stdout",
     "output_type": "stream",
     "text": [
      "Epoch [6/200], Loss: 0.04218494639448497\n"
     ]
    },
    {
     "name": "stderr",
     "output_type": "stream",
     "text": [
      "Epoch 7/200: 100%|██████████████████████████████████████████████████████████████████████████████████████████████████████████████████| 230/230 [00:19<00:00, 11.71batch/s, loss=0.0422]\n"
     ]
    },
    {
     "name": "stdout",
     "output_type": "stream",
     "text": [
      "Epoch [7/200], Loss: 0.042170912173131236\n"
     ]
    },
    {
     "name": "stderr",
     "output_type": "stream",
     "text": [
      "Epoch 8/200: 100%|██████████████████████████████████████████████████████████████████████████████████████████████████████████████████| 230/230 [00:19<00:00, 11.64batch/s, loss=0.0422]\n"
     ]
    },
    {
     "name": "stdout",
     "output_type": "stream",
     "text": [
      "Epoch [8/200], Loss: 0.042167634646529735\n"
     ]
    },
    {
     "name": "stderr",
     "output_type": "stream",
     "text": [
      "Epoch 9/200: 100%|██████████████████████████████████████████████████████████████████████████████████████████████████████████████████| 230/230 [00:19<00:00, 11.75batch/s, loss=0.0422]\n"
     ]
    },
    {
     "name": "stdout",
     "output_type": "stream",
     "text": [
      "Epoch [9/200], Loss: 0.042157982111625046\n"
     ]
    },
    {
     "name": "stderr",
     "output_type": "stream",
     "text": [
      "Epoch 10/200: 100%|█████████████████████████████████████████████████████████████████████████████████████████████████████████████████| 230/230 [00:19<00:00, 11.65batch/s, loss=0.0422]\n"
     ]
    },
    {
     "name": "stdout",
     "output_type": "stream",
     "text": [
      "Epoch [10/200], Loss: 0.04215072352925073\n"
     ]
    },
    {
     "name": "stderr",
     "output_type": "stream",
     "text": [
      "Epoch 11/200: 100%|█████████████████████████████████████████████████████████████████████████████████████████████████████████████████| 230/230 [00:19<00:00, 11.66batch/s, loss=0.0421]\n"
     ]
    },
    {
     "name": "stdout",
     "output_type": "stream",
     "text": [
      "Epoch [11/200], Loss: 0.042139777330600696\n"
     ]
    },
    {
     "name": "stderr",
     "output_type": "stream",
     "text": [
      "Epoch 12/200: 100%|█████████████████████████████████████████████████████████████████████████████████████████████████████████████████| 230/230 [00:19<00:00, 11.65batch/s, loss=0.0421]\n"
     ]
    },
    {
     "name": "stdout",
     "output_type": "stream",
     "text": [
      "Epoch [12/200], Loss: 0.0421342681121567\n"
     ]
    },
    {
     "name": "stderr",
     "output_type": "stream",
     "text": [
      "Epoch 13/200: 100%|█████████████████████████████████████████████████████████████████████████████████████████████████████████████████| 230/230 [00:19<00:00, 11.74batch/s, loss=0.0421]\n"
     ]
    },
    {
     "name": "stdout",
     "output_type": "stream",
     "text": [
      "Epoch [13/200], Loss: 0.04212392709501411\n"
     ]
    },
    {
     "name": "stderr",
     "output_type": "stream",
     "text": [
      "Epoch 14/200: 100%|█████████████████████████████████████████████████████████████████████████████████████████████████████████████████| 230/230 [00:19<00:00, 11.68batch/s, loss=0.0421]\n"
     ]
    },
    {
     "name": "stdout",
     "output_type": "stream",
     "text": [
      "Epoch [14/200], Loss: 0.04212116509999918\n"
     ]
    },
    {
     "name": "stderr",
     "output_type": "stream",
     "text": [
      "Epoch 15/200: 100%|█████████████████████████████████████████████████████████████████████████████████████████████████████████████████| 230/230 [00:19<00:00, 11.58batch/s, loss=0.0421]\n"
     ]
    },
    {
     "name": "stdout",
     "output_type": "stream",
     "text": [
      "Epoch [15/200], Loss: 0.042122733382427176\n"
     ]
    },
    {
     "name": "stderr",
     "output_type": "stream",
     "text": [
      "Epoch 16/200: 100%|█████████████████████████████████████████████████████████████████████████████████████████████████████████████████| 230/230 [00:19<00:00, 11.57batch/s, loss=0.0421]\n"
     ]
    },
    {
     "name": "stdout",
     "output_type": "stream",
     "text": [
      "Epoch [16/200], Loss: 0.042111783247926964\n"
     ]
    },
    {
     "name": "stderr",
     "output_type": "stream",
     "text": [
      "Epoch 17/200: 100%|█████████████████████████████████████████████████████████████████████████████████████████████████████████████████| 230/230 [00:19<00:00, 11.62batch/s, loss=0.0421]\n"
     ]
    },
    {
     "name": "stdout",
     "output_type": "stream",
     "text": [
      "Epoch [17/200], Loss: 0.04210008965886158\n"
     ]
    },
    {
     "name": "stderr",
     "output_type": "stream",
     "text": [
      "Epoch 18/200: 100%|█████████████████████████████████████████████████████████████████████████████████████████████████████████████████| 230/230 [00:20<00:00, 11.50batch/s, loss=0.0421]\n"
     ]
    },
    {
     "name": "stdout",
     "output_type": "stream",
     "text": [
      "Epoch [18/200], Loss: 0.042093258675025856\n"
     ]
    },
    {
     "name": "stderr",
     "output_type": "stream",
     "text": [
      "Epoch 19/200: 100%|█████████████████████████████████████████████████████████████████████████████████████████████████████████████████| 230/230 [00:19<00:00, 11.62batch/s, loss=0.0421]\n"
     ]
    },
    {
     "name": "stdout",
     "output_type": "stream",
     "text": [
      "Epoch [19/200], Loss: 0.04209099727804246\n"
     ]
    },
    {
     "name": "stderr",
     "output_type": "stream",
     "text": [
      "Epoch 20/200: 100%|█████████████████████████████████████████████████████████████████████████████████████████████████████████████████| 230/230 [00:20<00:00, 11.07batch/s, loss=0.0421]\n"
     ]
    },
    {
     "name": "stdout",
     "output_type": "stream",
     "text": [
      "Epoch [20/200], Loss: 0.04208372395647609\n"
     ]
    },
    {
     "name": "stderr",
     "output_type": "stream",
     "text": [
      "Epoch 21/200: 100%|█████████████████████████████████████████████████████████████████████████████████████████████████████████████████| 230/230 [00:20<00:00, 11.31batch/s, loss=0.0421]\n"
     ]
    },
    {
     "name": "stdout",
     "output_type": "stream",
     "text": [
      "Epoch [21/200], Loss: 0.04207943765365559\n"
     ]
    },
    {
     "name": "stderr",
     "output_type": "stream",
     "text": [
      "Epoch 22/200: 100%|█████████████████████████████████████████████████████████████████████████████████████████████████████████████████| 230/230 [00:20<00:00, 11.40batch/s, loss=0.0421]\n"
     ]
    },
    {
     "name": "stdout",
     "output_type": "stream",
     "text": [
      "Epoch [22/200], Loss: 0.04207226180511972\n"
     ]
    },
    {
     "name": "stderr",
     "output_type": "stream",
     "text": [
      "Epoch 23/200: 100%|█████████████████████████████████████████████████████████████████████████████████████████████████████████████████| 230/230 [00:20<00:00, 11.27batch/s, loss=0.0421]\n"
     ]
    },
    {
     "name": "stdout",
     "output_type": "stream",
     "text": [
      "Epoch [23/200], Loss: 0.04206988714311434\n"
     ]
    },
    {
     "name": "stderr",
     "output_type": "stream",
     "text": [
      "Epoch 24/200: 100%|█████████████████████████████████████████████████████████████████████████████████████████████████████████████████| 230/230 [00:21<00:00, 10.68batch/s, loss=0.0421]\n"
     ]
    },
    {
     "name": "stdout",
     "output_type": "stream",
     "text": [
      "Epoch [24/200], Loss: 0.04206033538541068\n"
     ]
    },
    {
     "name": "stderr",
     "output_type": "stream",
     "text": [
      "Epoch 25/200: 100%|█████████████████████████████████████████████████████████████████████████████████████████████████████████████████| 230/230 [00:25<00:00,  9.07batch/s, loss=0.0421]\n"
     ]
    },
    {
     "name": "stdout",
     "output_type": "stream",
     "text": [
      "Epoch [25/200], Loss: 0.04205611312518949\n"
     ]
    },
    {
     "name": "stderr",
     "output_type": "stream",
     "text": [
      "Epoch 26/200: 100%|█████████████████████████████████████████████████████████████████████████████████████████████████████████████████| 230/230 [00:24<00:00,  9.47batch/s, loss=0.0421]\n"
     ]
    },
    {
     "name": "stdout",
     "output_type": "stream",
     "text": [
      "Epoch [26/200], Loss: 0.0420517372696296\n"
     ]
    },
    {
     "name": "stderr",
     "output_type": "stream",
     "text": [
      "Epoch 27/200: 100%|█████████████████████████████████████████████████████████████████████████████████████████████████████████████████| 230/230 [00:23<00:00,  9.60batch/s, loss=0.0421]\n"
     ]
    },
    {
     "name": "stdout",
     "output_type": "stream",
     "text": [
      "Epoch [27/200], Loss: 0.04205081271736518\n"
     ]
    },
    {
     "name": "stderr",
     "output_type": "stream",
     "text": [
      "Epoch 28/200: 100%|██████████████████████████████████████████████████████████████████████████████████████████████████████████████████| 230/230 [00:20<00:00, 11.25batch/s, loss=0.042]\n"
     ]
    },
    {
     "name": "stdout",
     "output_type": "stream",
     "text": [
      "Epoch [28/200], Loss: 0.042035912236441736\n"
     ]
    },
    {
     "name": "stderr",
     "output_type": "stream",
     "text": [
      "Epoch 29/200: 100%|██████████████████████████████████████████████████████████████████████████████████████████████████████████████████| 230/230 [00:21<00:00, 10.64batch/s, loss=0.042]\n"
     ]
    },
    {
     "name": "stdout",
     "output_type": "stream",
     "text": [
      "Epoch [29/200], Loss: 0.04202836267650127\n"
     ]
    },
    {
     "name": "stderr",
     "output_type": "stream",
     "text": [
      "Epoch 30/200: 100%|██████████████████████████████████████████████████████████████████████████████████████████████████████████████████| 230/230 [00:20<00:00, 11.00batch/s, loss=0.042]\n"
     ]
    },
    {
     "name": "stdout",
     "output_type": "stream",
     "text": [
      "Epoch [30/200], Loss: 0.04202485870084037\n"
     ]
    },
    {
     "name": "stderr",
     "output_type": "stream",
     "text": [
      "Epoch 31/200: 100%|██████████████████████████████████████████████████████████████████████████████████████████████████████████████████| 230/230 [00:22<00:00, 10.41batch/s, loss=0.042]\n"
     ]
    },
    {
     "name": "stdout",
     "output_type": "stream",
     "text": [
      "Epoch [31/200], Loss: 0.042022559095336046\n"
     ]
    },
    {
     "name": "stderr",
     "output_type": "stream",
     "text": [
      "Epoch 32/200: 100%|██████████████████████████████████████████████████████████████████████████████████████████████████████████████████| 230/230 [00:19<00:00, 11.76batch/s, loss=0.042]\n"
     ]
    },
    {
     "name": "stdout",
     "output_type": "stream",
     "text": [
      "Epoch [32/200], Loss: 0.042013683477821556\n"
     ]
    },
    {
     "name": "stderr",
     "output_type": "stream",
     "text": [
      "Epoch 33/200: 100%|██████████████████████████████████████████████████████████████████████████████████████████████████████████████████| 230/230 [00:21<00:00, 10.83batch/s, loss=0.042]\n"
     ]
    },
    {
     "name": "stdout",
     "output_type": "stream",
     "text": [
      "Epoch [33/200], Loss: 0.04200660560442054\n"
     ]
    },
    {
     "name": "stderr",
     "output_type": "stream",
     "text": [
      "Epoch 34/200: 100%|██████████████████████████████████████████████████████████████████████████████████████████████████████████████████| 230/230 [00:20<00:00, 11.14batch/s, loss=0.042]\n"
     ]
    },
    {
     "name": "stdout",
     "output_type": "stream",
     "text": [
      "Epoch [34/200], Loss: 0.04200280572733153\n"
     ]
    },
    {
     "name": "stderr",
     "output_type": "stream",
     "text": [
      "Epoch 35/200: 100%|██████████████████████████████████████████████████████████████████████████████████████████████████████████████████| 230/230 [00:21<00:00, 10.59batch/s, loss=0.042]\n"
     ]
    },
    {
     "name": "stdout",
     "output_type": "stream",
     "text": [
      "Epoch [35/200], Loss: 0.04199606886376505\n"
     ]
    },
    {
     "name": "stderr",
     "output_type": "stream",
     "text": [
      "Epoch 36/200: 100%|██████████████████████████████████████████████████████████████████████████████████████████████████████████████████| 230/230 [00:21<00:00, 10.72batch/s, loss=0.042]\n"
     ]
    },
    {
     "name": "stdout",
     "output_type": "stream",
     "text": [
      "Epoch [36/200], Loss: 0.04199320134585318\n"
     ]
    },
    {
     "name": "stderr",
     "output_type": "stream",
     "text": [
      "Epoch 37/200: 100%|██████████████████████████████████████████████████████████████████████████████████████████████████████████████████| 230/230 [00:19<00:00, 11.57batch/s, loss=0.042]\n"
     ]
    },
    {
     "name": "stdout",
     "output_type": "stream",
     "text": [
      "Epoch [37/200], Loss: 0.041987346582438634\n"
     ]
    },
    {
     "name": "stderr",
     "output_type": "stream",
     "text": [
      "Epoch 38/200: 100%|██████████████████████████████████████████████████████████████████████████████████████████████████████████████████| 230/230 [00:20<00:00, 11.01batch/s, loss=0.042]\n"
     ]
    },
    {
     "name": "stdout",
     "output_type": "stream",
     "text": [
      "Epoch [38/200], Loss: 0.04198031681387321\n"
     ]
    },
    {
     "name": "stderr",
     "output_type": "stream",
     "text": [
      "Epoch 39/200: 100%|██████████████████████████████████████████████████████████████████████████████████████████████████████████████████| 230/230 [00:21<00:00, 10.67batch/s, loss=0.042]\n"
     ]
    },
    {
     "name": "stdout",
     "output_type": "stream",
     "text": [
      "Epoch [39/200], Loss: 0.041979979027224626\n"
     ]
    },
    {
     "name": "stderr",
     "output_type": "stream",
     "text": [
      "Epoch 40/200: 100%|██████████████████████████████████████████████████████████████████████████████████████████████████████████████████| 230/230 [00:22<00:00, 10.38batch/s, loss=0.042]\n"
     ]
    },
    {
     "name": "stdout",
     "output_type": "stream",
     "text": [
      "Epoch [40/200], Loss: 0.041970950397460356\n"
     ]
    },
    {
     "name": "stderr",
     "output_type": "stream",
     "text": [
      "Epoch 41/200: 100%|██████████████████████████████████████████████████████████████████████████████████████████████████████████████████| 230/230 [00:19<00:00, 11.58batch/s, loss=0.042]\n"
     ]
    },
    {
     "name": "stdout",
     "output_type": "stream",
     "text": [
      "Epoch [41/200], Loss: 0.041967733010001805\n"
     ]
    },
    {
     "name": "stderr",
     "output_type": "stream",
     "text": [
      "Epoch 42/200: 100%|██████████████████████████████████████████████████████████████████████████████████████████████████████████████████| 230/230 [00:22<00:00, 10.43batch/s, loss=0.042]\n"
     ]
    },
    {
     "name": "stdout",
     "output_type": "stream",
     "text": [
      "Epoch [42/200], Loss: 0.04196507579282574\n"
     ]
    },
    {
     "name": "stderr",
     "output_type": "stream",
     "text": [
      "Epoch 43/200: 100%|██████████████████████████████████████████████████████████████████████████████████████████████████████████████████| 230/230 [00:22<00:00, 10.20batch/s, loss=0.042]\n"
     ]
    },
    {
     "name": "stdout",
     "output_type": "stream",
     "text": [
      "Epoch [43/200], Loss: 0.041962835241271104\n"
     ]
    },
    {
     "name": "stderr",
     "output_type": "stream",
     "text": [
      "Epoch 44/200: 100%|██████████████████████████████████████████████████████████████████████████████████████████████████████████████████| 230/230 [00:20<00:00, 11.08batch/s, loss=0.042]\n"
     ]
    },
    {
     "name": "stdout",
     "output_type": "stream",
     "text": [
      "Epoch [44/200], Loss: 0.041954330565488855\n"
     ]
    },
    {
     "name": "stderr",
     "output_type": "stream",
     "text": [
      "Epoch 45/200: 100%|██████████████████████████████████████████████████████████████████████████████████████████████████████████████████| 230/230 [00:20<00:00, 10.99batch/s, loss=0.042]\n"
     ]
    },
    {
     "name": "stdout",
     "output_type": "stream",
     "text": [
      "Epoch [45/200], Loss: 0.04195340641814729\n"
     ]
    },
    {
     "name": "stderr",
     "output_type": "stream",
     "text": [
      "Epoch 46/200: 100%|██████████████████████████████████████████████████████████████████████████████████████████████████████████████████| 230/230 [00:21<00:00, 10.64batch/s, loss=0.042]\n"
     ]
    },
    {
     "name": "stdout",
     "output_type": "stream",
     "text": [
      "Epoch [46/200], Loss: 0.041953059933755706\n"
     ]
    },
    {
     "name": "stderr",
     "output_type": "stream",
     "text": [
      "Epoch 47/200: 100%|█████████████████████████████████████████████████████████████████████████████████████████████████████████████████| 230/230 [00:22<00:00, 10.05batch/s, loss=0.0419]\n"
     ]
    },
    {
     "name": "stdout",
     "output_type": "stream",
     "text": [
      "Epoch [47/200], Loss: 0.041946715764377425\n"
     ]
    },
    {
     "name": "stderr",
     "output_type": "stream",
     "text": [
      "Epoch 48/200: 100%|█████████████████████████████████████████████████████████████████████████████████████████████████████████████████| 230/230 [00:20<00:00, 11.48batch/s, loss=0.0419]\n"
     ]
    },
    {
     "name": "stdout",
     "output_type": "stream",
     "text": [
      "Epoch [48/200], Loss: 0.041941397037843\n"
     ]
    },
    {
     "name": "stderr",
     "output_type": "stream",
     "text": [
      "Epoch 49/200: 100%|█████████████████████████████████████████████████████████████████████████████████████████████████████████████████| 230/230 [00:21<00:00, 10.50batch/s, loss=0.0419]\n"
     ]
    },
    {
     "name": "stdout",
     "output_type": "stream",
     "text": [
      "Epoch [49/200], Loss: 0.04193762576450472\n"
     ]
    },
    {
     "name": "stderr",
     "output_type": "stream",
     "text": [
      "Epoch 50/200: 100%|█████████████████████████████████████████████████████████████████████████████████████████████████████████████████| 230/230 [00:22<00:00, 10.18batch/s, loss=0.0419]\n"
     ]
    },
    {
     "name": "stdout",
     "output_type": "stream",
     "text": [
      "Epoch [50/200], Loss: 0.04193746622489846\n"
     ]
    },
    {
     "name": "stderr",
     "output_type": "stream",
     "text": [
      "Epoch 51/200: 100%|█████████████████████████████████████████████████████████████████████████████████████████████████████████████████| 230/230 [00:21<00:00, 10.79batch/s, loss=0.0419]\n"
     ]
    },
    {
     "name": "stdout",
     "output_type": "stream",
     "text": [
      "Epoch [51/200], Loss: 0.041935126370062\n"
     ]
    },
    {
     "name": "stderr",
     "output_type": "stream",
     "text": [
      "Epoch 52/200: 100%|█████████████████████████████████████████████████████████████████████████████████████████████████████████████████| 230/230 [00:20<00:00, 11.44batch/s, loss=0.0419]\n"
     ]
    },
    {
     "name": "stdout",
     "output_type": "stream",
     "text": [
      "Epoch [52/200], Loss: 0.04193400049015232\n"
     ]
    },
    {
     "name": "stderr",
     "output_type": "stream",
     "text": [
      "Epoch 53/200: 100%|█████████████████████████████████████████████████████████████████████████████████████████████████████████████████| 230/230 [00:24<00:00,  9.47batch/s, loss=0.0419]\n"
     ]
    },
    {
     "name": "stdout",
     "output_type": "stream",
     "text": [
      "Epoch [53/200], Loss: 0.04192760956028233\n"
     ]
    },
    {
     "name": "stderr",
     "output_type": "stream",
     "text": [
      "Epoch 54/200: 100%|█████████████████████████████████████████████████████████████████████████████████████████████████████████████████| 230/230 [00:21<00:00, 10.84batch/s, loss=0.0419]\n"
     ]
    },
    {
     "name": "stdout",
     "output_type": "stream",
     "text": [
      "Epoch [54/200], Loss: 0.04192772332740866\n"
     ]
    },
    {
     "name": "stderr",
     "output_type": "stream",
     "text": [
      "Epoch 55/200: 100%|█████████████████████████████████████████████████████████████████████████████████████████████████████████████████| 230/230 [00:20<00:00, 11.38batch/s, loss=0.0419]\n"
     ]
    },
    {
     "name": "stdout",
     "output_type": "stream",
     "text": [
      "Epoch [55/200], Loss: 0.041922493910659914\n"
     ]
    },
    {
     "name": "stderr",
     "output_type": "stream",
     "text": [
      "Epoch 56/200: 100%|█████████████████████████████████████████████████████████████████████████████████████████████████████████████████| 230/230 [00:22<00:00, 10.40batch/s, loss=0.0419]\n"
     ]
    },
    {
     "name": "stdout",
     "output_type": "stream",
     "text": [
      "Epoch [56/200], Loss: 0.0419210960359677\n"
     ]
    },
    {
     "name": "stderr",
     "output_type": "stream",
     "text": [
      "Epoch 57/200: 100%|█████████████████████████████████████████████████████████████████████████████████████████████████████████████████| 230/230 [00:23<00:00,  9.79batch/s, loss=0.0419]\n"
     ]
    },
    {
     "name": "stdout",
     "output_type": "stream",
     "text": [
      "Epoch [57/200], Loss: 0.04192104222981826\n"
     ]
    },
    {
     "name": "stderr",
     "output_type": "stream",
     "text": [
      "Epoch 58/200: 100%|█████████████████████████████████████████████████████████████████████████████████████████████████████████████████| 230/230 [00:19<00:00, 11.64batch/s, loss=0.0419]\n"
     ]
    },
    {
     "name": "stdout",
     "output_type": "stream",
     "text": [
      "Epoch [58/200], Loss: 0.041916192128606464\n"
     ]
    },
    {
     "name": "stderr",
     "output_type": "stream",
     "text": [
      "Epoch 59/200: 100%|█████████████████████████████████████████████████████████████████████████████████████████████████████████████████| 230/230 [00:21<00:00, 10.66batch/s, loss=0.0419]\n"
     ]
    },
    {
     "name": "stdout",
     "output_type": "stream",
     "text": [
      "Epoch [59/200], Loss: 0.041916151085625526\n"
     ]
    },
    {
     "name": "stderr",
     "output_type": "stream",
     "text": [
      "Epoch 60/200: 100%|█████████████████████████████████████████████████████████████████████████████████████████████████████████████████| 230/230 [00:22<00:00, 10.11batch/s, loss=0.0419]\n"
     ]
    },
    {
     "name": "stdout",
     "output_type": "stream",
     "text": [
      "Epoch [60/200], Loss: 0.0419113191411547\n"
     ]
    },
    {
     "name": "stderr",
     "output_type": "stream",
     "text": [
      "Epoch 61/200: 100%|█████████████████████████████████████████████████████████████████████████████████████████████████████████████████| 230/230 [00:21<00:00, 10.76batch/s, loss=0.0419]\n"
     ]
    },
    {
     "name": "stdout",
     "output_type": "stream",
     "text": [
      "Epoch [61/200], Loss: 0.041910027534417485\n"
     ]
    },
    {
     "name": "stderr",
     "output_type": "stream",
     "text": [
      "Epoch 62/200: 100%|█████████████████████████████████████████████████████████████████████████████████████████████████████████████████| 230/230 [00:20<00:00, 10.97batch/s, loss=0.0419]\n"
     ]
    },
    {
     "name": "stdout",
     "output_type": "stream",
     "text": [
      "Epoch [62/200], Loss: 0.04191002641683039\n"
     ]
    },
    {
     "name": "stderr",
     "output_type": "stream",
     "text": [
      "Epoch 63/200: 100%|█████████████████████████████████████████████████████████████████████████████████████████████████████████████████| 230/230 [00:23<00:00,  9.67batch/s, loss=0.0419]\n"
     ]
    },
    {
     "name": "stdout",
     "output_type": "stream",
     "text": [
      "Epoch [63/200], Loss: 0.041907655561099884\n"
     ]
    },
    {
     "name": "stderr",
     "output_type": "stream",
     "text": [
      "Epoch 64/200: 100%|█████████████████████████████████████████████████████████████████████████████████████████████████████████████████| 230/230 [00:21<00:00, 10.80batch/s, loss=0.0419]\n"
     ]
    },
    {
     "name": "stdout",
     "output_type": "stream",
     "text": [
      "Epoch [64/200], Loss: 0.04191181348717731\n"
     ]
    },
    {
     "name": "stderr",
     "output_type": "stream",
     "text": [
      "Epoch 65/200: 100%|█████████████████████████████████████████████████████████████████████████████████████████████████████████████████| 230/230 [00:23<00:00,  9.97batch/s, loss=0.0419]\n"
     ]
    },
    {
     "name": "stdout",
     "output_type": "stream",
     "text": [
      "Epoch [65/200], Loss: 0.04190923393420551\n"
     ]
    },
    {
     "name": "stderr",
     "output_type": "stream",
     "text": [
      "Epoch 66/200: 100%|█████████████████████████████████████████████████████████████████████████████████████████████████████████████████| 230/230 [00:23<00:00,  9.89batch/s, loss=0.0419]\n"
     ]
    },
    {
     "name": "stdout",
     "output_type": "stream",
     "text": [
      "Epoch [66/200], Loss: 0.04190346352432085\n"
     ]
    },
    {
     "name": "stderr",
     "output_type": "stream",
     "text": [
      "Epoch 67/200: 100%|█████████████████████████████████████████████████████████████████████████████████████████████████████████████████| 230/230 [00:21<00:00, 10.73batch/s, loss=0.0419]\n"
     ]
    },
    {
     "name": "stdout",
     "output_type": "stream",
     "text": [
      "Epoch [67/200], Loss: 0.04190179326612017\n"
     ]
    },
    {
     "name": "stderr",
     "output_type": "stream",
     "text": [
      "Epoch 68/200: 100%|█████████████████████████████████████████████████████████████████████████████████████████████████████████████████| 230/230 [00:22<00:00, 10.18batch/s, loss=0.0419]\n"
     ]
    },
    {
     "name": "stdout",
     "output_type": "stream",
     "text": [
      "Epoch [68/200], Loss: 0.04190093905705473\n"
     ]
    },
    {
     "name": "stderr",
     "output_type": "stream",
     "text": [
      "Epoch 69/200: 100%|█████████████████████████████████████████████████████████████████████████████████████████████████████████████████| 230/230 [00:21<00:00, 10.56batch/s, loss=0.0419]\n"
     ]
    },
    {
     "name": "stdout",
     "output_type": "stream",
     "text": [
      "Epoch [69/200], Loss: 0.04189881674297478\n"
     ]
    },
    {
     "name": "stderr",
     "output_type": "stream",
     "text": [
      "Epoch 70/200: 100%|█████████████████████████████████████████████████████████████████████████████████████████████████████████████████| 230/230 [00:21<00:00, 10.69batch/s, loss=0.0419]\n"
     ]
    },
    {
     "name": "stdout",
     "output_type": "stream",
     "text": [
      "Epoch [70/200], Loss: 0.041897751860644504\n"
     ]
    },
    {
     "name": "stderr",
     "output_type": "stream",
     "text": [
      "Epoch 71/200: 100%|█████████████████████████████████████████████████████████████████████████████████████████████████████████████████| 230/230 [00:25<00:00,  9.19batch/s, loss=0.0419]\n"
     ]
    },
    {
     "name": "stdout",
     "output_type": "stream",
     "text": [
      "Epoch [71/200], Loss: 0.041896714853203815\n"
     ]
    },
    {
     "name": "stderr",
     "output_type": "stream",
     "text": [
      "Epoch 72/200: 100%|█████████████████████████████████████████████████████████████████████████████████████████████████████████████████| 230/230 [00:19<00:00, 11.68batch/s, loss=0.0419]\n"
     ]
    },
    {
     "name": "stdout",
     "output_type": "stream",
     "text": [
      "Epoch [72/200], Loss: 0.04189638727061126\n"
     ]
    },
    {
     "name": "stderr",
     "output_type": "stream",
     "text": [
      "Epoch 73/200: 100%|█████████████████████████████████████████████████████████████████████████████████████████████████████████████████| 230/230 [00:24<00:00,  9.58batch/s, loss=0.0419]\n"
     ]
    },
    {
     "name": "stdout",
     "output_type": "stream",
     "text": [
      "Epoch [73/200], Loss: 0.04189742107106292\n"
     ]
    },
    {
     "name": "stderr",
     "output_type": "stream",
     "text": [
      "Epoch 74/200: 100%|█████████████████████████████████████████████████████████████████████████████████████████████████████████████████| 230/230 [00:22<00:00, 10.30batch/s, loss=0.0419]\n"
     ]
    },
    {
     "name": "stdout",
     "output_type": "stream",
     "text": [
      "Epoch [74/200], Loss: 0.041895480113832845\n"
     ]
    },
    {
     "name": "stderr",
     "output_type": "stream",
     "text": [
      "Epoch 75/200: 100%|█████████████████████████████████████████████████████████████████████████████████████████████████████████████████| 230/230 [00:20<00:00, 10.97batch/s, loss=0.0419]\n"
     ]
    },
    {
     "name": "stdout",
     "output_type": "stream",
     "text": [
      "Epoch [75/200], Loss: 0.04189304267258748\n"
     ]
    },
    {
     "name": "stderr",
     "output_type": "stream",
     "text": [
      "Epoch 76/200: 100%|█████████████████████████████████████████████████████████████████████████████████████████████████████████████████| 230/230 [00:24<00:00,  9.55batch/s, loss=0.0419]\n"
     ]
    },
    {
     "name": "stdout",
     "output_type": "stream",
     "text": [
      "Epoch [76/200], Loss: 0.04189391338630863\n"
     ]
    },
    {
     "name": "stderr",
     "output_type": "stream",
     "text": [
      "Epoch 77/200: 100%|█████████████████████████████████████████████████████████████████████████████████████████████████████████████████| 230/230 [00:20<00:00, 10.98batch/s, loss=0.0419]\n"
     ]
    },
    {
     "name": "stdout",
     "output_type": "stream",
     "text": [
      "Epoch [77/200], Loss: 0.04189341262630794\n"
     ]
    },
    {
     "name": "stderr",
     "output_type": "stream",
     "text": [
      "Epoch 78/200: 100%|█████████████████████████████████████████████████████████████████████████████████████████████████████████████████| 230/230 [00:21<00:00, 10.48batch/s, loss=0.0419]\n"
     ]
    },
    {
     "name": "stdout",
     "output_type": "stream",
     "text": [
      "Epoch [78/200], Loss: 0.04189052398761978\n"
     ]
    },
    {
     "name": "stderr",
     "output_type": "stream",
     "text": [
      "Epoch 79/200: 100%|█████████████████████████████████████████████████████████████████████████████████████████████████████████████████| 230/230 [00:23<00:00,  9.93batch/s, loss=0.0419]\n"
     ]
    },
    {
     "name": "stdout",
     "output_type": "stream",
     "text": [
      "Epoch [79/200], Loss: 0.04188916420807009\n"
     ]
    },
    {
     "name": "stderr",
     "output_type": "stream",
     "text": [
      "Epoch 80/200: 100%|█████████████████████████████████████████████████████████████████████████████████████████████████████████████████| 230/230 [00:20<00:00, 11.04batch/s, loss=0.0419]\n"
     ]
    },
    {
     "name": "stdout",
     "output_type": "stream",
     "text": [
      "Epoch [80/200], Loss: 0.04189020503798257\n"
     ]
    },
    {
     "name": "stderr",
     "output_type": "stream",
     "text": [
      "Epoch 81/200: 100%|█████████████████████████████████████████████████████████████████████████████████████████████████████████████████| 230/230 [00:26<00:00,  8.76batch/s, loss=0.0419]\n"
     ]
    },
    {
     "name": "stdout",
     "output_type": "stream",
     "text": [
      "Epoch [81/200], Loss: 0.04189340451165386\n"
     ]
    },
    {
     "name": "stderr",
     "output_type": "stream",
     "text": [
      "Epoch 82/200: 100%|█████████████████████████████████████████████████████████████████████████████████████████████████████████████████| 230/230 [00:20<00:00, 11.22batch/s, loss=0.0419]\n"
     ]
    },
    {
     "name": "stdout",
     "output_type": "stream",
     "text": [
      "Epoch [82/200], Loss: 0.04188782781686472\n"
     ]
    },
    {
     "name": "stderr",
     "output_type": "stream",
     "text": [
      "Epoch 83/200: 100%|█████████████████████████████████████████████████████████████████████████████████████████████████████████████████| 230/230 [00:25<00:00,  9.07batch/s, loss=0.0419]\n"
     ]
    },
    {
     "name": "stdout",
     "output_type": "stream",
     "text": [
      "Epoch [83/200], Loss: 0.041886387700619906\n"
     ]
    },
    {
     "name": "stderr",
     "output_type": "stream",
     "text": [
      "Epoch 84/200: 100%|█████████████████████████████████████████████████████████████████████████████████████████████████████████████████| 230/230 [00:21<00:00, 10.86batch/s, loss=0.0419]\n"
     ]
    },
    {
     "name": "stdout",
     "output_type": "stream",
     "text": [
      "Epoch [84/200], Loss: 0.04188569034247295\n"
     ]
    },
    {
     "name": "stderr",
     "output_type": "stream",
     "text": [
      "Epoch 85/200: 100%|█████████████████████████████████████████████████████████████████████████████████████████████████████████████████| 230/230 [00:22<00:00, 10.12batch/s, loss=0.0419]\n"
     ]
    },
    {
     "name": "stdout",
     "output_type": "stream",
     "text": [
      "Epoch [85/200], Loss: 0.04188470234689505\n"
     ]
    },
    {
     "name": "stderr",
     "output_type": "stream",
     "text": [
      "Epoch 86/200: 100%|█████████████████████████████████████████████████████████████████████████████████████████████████████████████████| 230/230 [00:23<00:00,  9.90batch/s, loss=0.0419]\n"
     ]
    },
    {
     "name": "stdout",
     "output_type": "stream",
     "text": [
      "Epoch [86/200], Loss: 0.041885409649947414\n"
     ]
    },
    {
     "name": "stderr",
     "output_type": "stream",
     "text": [
      "Epoch 87/200: 100%|█████████████████████████████████████████████████████████████████████████████████████████████████████████████████| 230/230 [00:20<00:00, 11.45batch/s, loss=0.0419]\n"
     ]
    },
    {
     "name": "stdout",
     "output_type": "stream",
     "text": [
      "Epoch [87/200], Loss: 0.041884071817216664\n"
     ]
    },
    {
     "name": "stderr",
     "output_type": "stream",
     "text": [
      "Epoch 88/200: 100%|█████████████████████████████████████████████████████████████████████████████████████████████████████████████████| 230/230 [00:24<00:00,  9.57batch/s, loss=0.0419]\n"
     ]
    },
    {
     "name": "stdout",
     "output_type": "stream",
     "text": [
      "Epoch [88/200], Loss: 0.0418839318110891\n"
     ]
    },
    {
     "name": "stderr",
     "output_type": "stream",
     "text": [
      "Epoch 89/200: 100%|█████████████████████████████████████████████████████████████████████████████████████████████████████████████████| 230/230 [00:22<00:00, 10.33batch/s, loss=0.0419]\n"
     ]
    },
    {
     "name": "stdout",
     "output_type": "stream",
     "text": [
      "Epoch [89/200], Loss: 0.04188345924991629\n"
     ]
    },
    {
     "name": "stderr",
     "output_type": "stream",
     "text": [
      "Epoch 90/200: 100%|█████████████████████████████████████████████████████████████████████████████████████████████████████████████████| 230/230 [00:22<00:00, 10.24batch/s, loss=0.0419]\n"
     ]
    },
    {
     "name": "stdout",
     "output_type": "stream",
     "text": [
      "Epoch [90/200], Loss: 0.0418826594300892\n"
     ]
    },
    {
     "name": "stderr",
     "output_type": "stream",
     "text": [
      "Epoch 91/200: 100%|█████████████████████████████████████████████████████████████████████████████████████████████████████████████████| 230/230 [00:23<00:00,  9.78batch/s, loss=0.0419]\n"
     ]
    },
    {
     "name": "stdout",
     "output_type": "stream",
     "text": [
      "Epoch [91/200], Loss: 0.04188277938443682\n"
     ]
    },
    {
     "name": "stderr",
     "output_type": "stream",
     "text": [
      "Epoch 92/200: 100%|█████████████████████████████████████████████████████████████████████████████████████████████████████████████████| 230/230 [00:20<00:00, 11.30batch/s, loss=0.0419]\n"
     ]
    },
    {
     "name": "stdout",
     "output_type": "stream",
     "text": [
      "Epoch [92/200], Loss: 0.04188216824246489\n"
     ]
    },
    {
     "name": "stderr",
     "output_type": "stream",
     "text": [
      "Epoch 93/200: 100%|█████████████████████████████████████████████████████████████████████████████████████████████████████████████████| 230/230 [00:25<00:00,  9.06batch/s, loss=0.0419]\n"
     ]
    },
    {
     "name": "stdout",
     "output_type": "stream",
     "text": [
      "Epoch [93/200], Loss: 0.041881747673387114\n"
     ]
    },
    {
     "name": "stderr",
     "output_type": "stream",
     "text": [
      "Epoch 94/200: 100%|█████████████████████████████████████████████████████████████████████████████████████████████████████████████████| 230/230 [00:21<00:00, 10.81batch/s, loss=0.0419]\n"
     ]
    },
    {
     "name": "stdout",
     "output_type": "stream",
     "text": [
      "Epoch [94/200], Loss: 0.04188101571863112\n"
     ]
    },
    {
     "name": "stderr",
     "output_type": "stream",
     "text": [
      "Epoch 95/200: 100%|█████████████████████████████████████████████████████████████████████████████████████████████████████████████████| 230/230 [00:23<00:00,  9.66batch/s, loss=0.0419]\n"
     ]
    },
    {
     "name": "stdout",
     "output_type": "stream",
     "text": [
      "Epoch [95/200], Loss: 0.04188104913286541\n"
     ]
    },
    {
     "name": "stderr",
     "output_type": "stream",
     "text": [
      "Epoch 96/200: 100%|█████████████████████████████████████████████████████████████████████████████████████████████████████████████████| 230/230 [00:22<00:00, 10.09batch/s, loss=0.0419]\n"
     ]
    },
    {
     "name": "stdout",
     "output_type": "stream",
     "text": [
      "Epoch [96/200], Loss: 0.04188011277305043\n"
     ]
    },
    {
     "name": "stderr",
     "output_type": "stream",
     "text": [
      "Epoch 97/200: 100%|█████████████████████████████████████████████████████████████████████████████████████████████████████████████████| 230/230 [00:20<00:00, 11.16batch/s, loss=0.0419]\n"
     ]
    },
    {
     "name": "stdout",
     "output_type": "stream",
     "text": [
      "Epoch [97/200], Loss: 0.04188020538700663\n"
     ]
    },
    {
     "name": "stderr",
     "output_type": "stream",
     "text": [
      "Epoch 98/200: 100%|█████████████████████████████████████████████████████████████████████████████████████████████████████████████████| 230/230 [00:25<00:00,  9.07batch/s, loss=0.0419]\n"
     ]
    },
    {
     "name": "stdout",
     "output_type": "stream",
     "text": [
      "Epoch [98/200], Loss: 0.041879567941245824\n"
     ]
    },
    {
     "name": "stderr",
     "output_type": "stream",
     "text": [
      "Epoch 99/200: 100%|█████████████████████████████████████████████████████████████████████████████████████████████████████████████████| 230/230 [00:20<00:00, 11.48batch/s, loss=0.0419]\n"
     ]
    },
    {
     "name": "stdout",
     "output_type": "stream",
     "text": [
      "Epoch [99/200], Loss: 0.041880092996618025\n"
     ]
    },
    {
     "name": "stderr",
     "output_type": "stream",
     "text": [
      "Epoch 100/200: 100%|████████████████████████████████████████████████████████████████████████████████████████████████████████████████| 230/230 [00:25<00:00,  9.19batch/s, loss=0.0419]\n"
     ]
    },
    {
     "name": "stdout",
     "output_type": "stream",
     "text": [
      "Epoch [100/200], Loss: 0.04189485413548739\n"
     ]
    },
    {
     "name": "stderr",
     "output_type": "stream",
     "text": [
      "Epoch 101/200: 100%|████████████████████████████████████████████████████████████████████████████████████████████████████████████████| 230/230 [00:21<00:00, 10.68batch/s, loss=0.0419]\n"
     ]
    },
    {
     "name": "stdout",
     "output_type": "stream",
     "text": [
      "Epoch [101/200], Loss: 0.041884774860480554\n"
     ]
    },
    {
     "name": "stderr",
     "output_type": "stream",
     "text": [
      "Epoch 102/200: 100%|████████████████████████████████████████████████████████████████████████████████████████████████████████████████| 230/230 [00:27<00:00,  8.50batch/s, loss=0.0419]\n"
     ]
    },
    {
     "name": "stdout",
     "output_type": "stream",
     "text": [
      "Epoch [102/200], Loss: 0.04187978025039901\n"
     ]
    },
    {
     "name": "stderr",
     "output_type": "stream",
     "text": [
      "Epoch 103/200: 100%|████████████████████████████████████████████████████████████████████████████████████████████████████████████████| 230/230 [00:19<00:00, 11.74batch/s, loss=0.0419]\n"
     ]
    },
    {
     "name": "stdout",
     "output_type": "stream",
     "text": [
      "Epoch [103/200], Loss: 0.041878079380030214\n"
     ]
    },
    {
     "name": "stderr",
     "output_type": "stream",
     "text": [
      "Epoch 104/200: 100%|████████████████████████████████████████████████████████████████████████████████████████████████████████████████| 230/230 [00:24<00:00,  9.46batch/s, loss=0.0419]\n"
     ]
    },
    {
     "name": "stdout",
     "output_type": "stream",
     "text": [
      "Epoch [104/200], Loss: 0.04187739026611266\n"
     ]
    },
    {
     "name": "stderr",
     "output_type": "stream",
     "text": [
      "Epoch 105/200: 100%|████████████████████████████████████████████████████████████████████████████████████████████████████████████████| 230/230 [00:22<00:00, 10.40batch/s, loss=0.0419]\n"
     ]
    },
    {
     "name": "stdout",
     "output_type": "stream",
     "text": [
      "Epoch [105/200], Loss: 0.04187743903502174\n"
     ]
    },
    {
     "name": "stderr",
     "output_type": "stream",
     "text": [
      "Epoch 106/200: 100%|████████████████████████████████████████████████████████████████████████████████████████████████████████████████| 230/230 [00:23<00:00,  9.83batch/s, loss=0.0419]\n"
     ]
    },
    {
     "name": "stdout",
     "output_type": "stream",
     "text": [
      "Epoch [106/200], Loss: 0.04187675507172294\n"
     ]
    },
    {
     "name": "stderr",
     "output_type": "stream",
     "text": [
      "Epoch 107/200: 100%|████████████████████████████████████████████████████████████████████████████████████████████████████████████████| 230/230 [00:23<00:00,  9.96batch/s, loss=0.0419]\n"
     ]
    },
    {
     "name": "stdout",
     "output_type": "stream",
     "text": [
      "Epoch [107/200], Loss: 0.041876680841264516\n"
     ]
    },
    {
     "name": "stderr",
     "output_type": "stream",
     "text": [
      "Epoch 108/200: 100%|████████████████████████████████████████████████████████████████████████████████████████████████████████████████| 230/230 [00:24<00:00,  9.44batch/s, loss=0.0419]\n"
     ]
    },
    {
     "name": "stdout",
     "output_type": "stream",
     "text": [
      "Epoch [108/200], Loss: 0.04187675215627836\n"
     ]
    },
    {
     "name": "stderr",
     "output_type": "stream",
     "text": [
      "Epoch 109/200: 100%|████████████████████████████████████████████████████████████████████████████████████████████████████████████████| 230/230 [00:22<00:00, 10.40batch/s, loss=0.0419]\n"
     ]
    },
    {
     "name": "stdout",
     "output_type": "stream",
     "text": [
      "Epoch [109/200], Loss: 0.04187709091474181\n"
     ]
    },
    {
     "name": "stderr",
     "output_type": "stream",
     "text": [
      "Epoch 110/200: 100%|████████████████████████████████████████████████████████████████████████████████████████████████████████████████| 230/230 [00:21<00:00, 10.80batch/s, loss=0.0419]\n"
     ]
    },
    {
     "name": "stdout",
     "output_type": "stream",
     "text": [
      "Epoch [110/200], Loss: 0.04187688566744328\n"
     ]
    },
    {
     "name": "stderr",
     "output_type": "stream",
     "text": [
      "Epoch 111/200: 100%|████████████████████████████████████████████████████████████████████████████████████████████████████████████████| 230/230 [00:25<00:00,  9.12batch/s, loss=0.0419]\n"
     ]
    },
    {
     "name": "stdout",
     "output_type": "stream",
     "text": [
      "Epoch [111/200], Loss: 0.04187640128252299\n"
     ]
    },
    {
     "name": "stderr",
     "output_type": "stream",
     "text": [
      "Epoch 112/200: 100%|████████████████████████████████████████████████████████████████████████████████████████████████████████████████| 230/230 [00:23<00:00,  9.86batch/s, loss=0.0419]\n"
     ]
    },
    {
     "name": "stdout",
     "output_type": "stream",
     "text": [
      "Epoch [112/200], Loss: 0.04187600565669329\n"
     ]
    },
    {
     "name": "stderr",
     "output_type": "stream",
     "text": [
      "Epoch 113/200: 100%|████████████████████████████████████████████████████████████████████████████████████████████████████████████████| 230/230 [00:23<00:00,  9.89batch/s, loss=0.0419]\n"
     ]
    },
    {
     "name": "stdout",
     "output_type": "stream",
     "text": [
      "Epoch [113/200], Loss: 0.041875811682447146\n"
     ]
    },
    {
     "name": "stderr",
     "output_type": "stream",
     "text": [
      "Epoch 114/200: 100%|████████████████████████████████████████████████████████████████████████████████████████████████████████████████| 230/230 [00:22<00:00, 10.05batch/s, loss=0.0419]\n"
     ]
    },
    {
     "name": "stdout",
     "output_type": "stream",
     "text": [
      "Epoch [114/200], Loss: 0.04187542491632959\n"
     ]
    },
    {
     "name": "stderr",
     "output_type": "stream",
     "text": [
      "Epoch 115/200: 100%|████████████████████████████████████████████████████████████████████████████████████████████████████████████████| 230/230 [00:23<00:00,  9.72batch/s, loss=0.0419]\n"
     ]
    },
    {
     "name": "stdout",
     "output_type": "stream",
     "text": [
      "Epoch [115/200], Loss: 0.041875260064135424\n"
     ]
    },
    {
     "name": "stderr",
     "output_type": "stream",
     "text": [
      "Epoch 116/200: 100%|████████████████████████████████████████████████████████████████████████████████████████████████████████████████| 230/230 [00:22<00:00, 10.19batch/s, loss=0.0419]\n"
     ]
    },
    {
     "name": "stdout",
     "output_type": "stream",
     "text": [
      "Epoch [116/200], Loss: 0.04187538231844488\n"
     ]
    },
    {
     "name": "stderr",
     "output_type": "stream",
     "text": [
      "Epoch 117/200: 100%|████████████████████████████████████████████████████████████████████████████████████████████████████████████████| 230/230 [00:24<00:00,  9.56batch/s, loss=0.0419]\n"
     ]
    },
    {
     "name": "stdout",
     "output_type": "stream",
     "text": [
      "Epoch [117/200], Loss: 0.04187522601822148\n"
     ]
    },
    {
     "name": "stderr",
     "output_type": "stream",
     "text": [
      "Epoch 118/200: 100%|████████████████████████████████████████████████████████████████████████████████████████████████████████████████| 230/230 [00:24<00:00,  9.56batch/s, loss=0.0419]\n"
     ]
    },
    {
     "name": "stdout",
     "output_type": "stream",
     "text": [
      "Epoch [118/200], Loss: 0.04187513293455476\n"
     ]
    },
    {
     "name": "stderr",
     "output_type": "stream",
     "text": [
      "Epoch 119/200: 100%|████████████████████████████████████████████████████████████████████████████████████████████████████████████████| 230/230 [00:22<00:00, 10.12batch/s, loss=0.0419]\n"
     ]
    },
    {
     "name": "stdout",
     "output_type": "stream",
     "text": [
      "Epoch [119/200], Loss: 0.041874858963748686\n"
     ]
    },
    {
     "name": "stderr",
     "output_type": "stream",
     "text": [
      "Epoch 120/200: 100%|████████████████████████████████████████████████████████████████████████████████████████████████████████████████| 230/230 [00:22<00:00, 10.44batch/s, loss=0.0419]\n"
     ]
    },
    {
     "name": "stdout",
     "output_type": "stream",
     "text": [
      "Epoch [120/200], Loss: 0.04187448648330958\n"
     ]
    },
    {
     "name": "stderr",
     "output_type": "stream",
     "text": [
      "Epoch 121/200: 100%|████████████████████████████████████████████████████████████████████████████████████████████████████████████████| 230/230 [00:24<00:00,  9.29batch/s, loss=0.0419]\n"
     ]
    },
    {
     "name": "stdout",
     "output_type": "stream",
     "text": [
      "Epoch [121/200], Loss: 0.04187454906818659\n"
     ]
    },
    {
     "name": "stderr",
     "output_type": "stream",
     "text": [
      "Epoch 122/200: 100%|████████████████████████████████████████████████████████████████████████████████████████████████████████████████| 230/230 [00:20<00:00, 11.01batch/s, loss=0.0419]\n"
     ]
    },
    {
     "name": "stdout",
     "output_type": "stream",
     "text": [
      "Epoch [122/200], Loss: 0.04187449224941109\n"
     ]
    },
    {
     "name": "stderr",
     "output_type": "stream",
     "text": [
      "Epoch 123/200: 100%|████████████████████████████████████████████████████████████████████████████████████████████████████████████████| 230/230 [00:25<00:00,  8.91batch/s, loss=0.0419]\n"
     ]
    },
    {
     "name": "stdout",
     "output_type": "stream",
     "text": [
      "Epoch [123/200], Loss: 0.04187402681488058\n"
     ]
    },
    {
     "name": "stderr",
     "output_type": "stream",
     "text": [
      "Epoch 124/200: 100%|████████████████████████████████████████████████████████████████████████████████████████████████████████████████| 230/230 [00:21<00:00, 10.49batch/s, loss=0.0419]\n"
     ]
    },
    {
     "name": "stdout",
     "output_type": "stream",
     "text": [
      "Epoch [124/200], Loss: 0.0418740290986455\n"
     ]
    },
    {
     "name": "stderr",
     "output_type": "stream",
     "text": [
      "Epoch 125/200: 100%|████████████████████████████████████████████████████████████████████████████████████████████████████████████████| 230/230 [00:24<00:00,  9.21batch/s, loss=0.0419]\n"
     ]
    },
    {
     "name": "stdout",
     "output_type": "stream",
     "text": [
      "Epoch [125/200], Loss: 0.04187388392570226\n"
     ]
    },
    {
     "name": "stderr",
     "output_type": "stream",
     "text": [
      "Epoch 126/200: 100%|████████████████████████████████████████████████████████████████████████████████████████████████████████████████| 230/230 [00:19<00:00, 11.67batch/s, loss=0.0419]\n"
     ]
    },
    {
     "name": "stdout",
     "output_type": "stream",
     "text": [
      "Epoch [126/200], Loss: 0.041873727690266524\n"
     ]
    },
    {
     "name": "stderr",
     "output_type": "stream",
     "text": [
      "Epoch 127/200: 100%|████████████████████████████████████████████████████████████████████████████████████████████████████████████████| 230/230 [00:24<00:00,  9.57batch/s, loss=0.0419]\n"
     ]
    },
    {
     "name": "stdout",
     "output_type": "stream",
     "text": [
      "Epoch [127/200], Loss: 0.041873450528668324\n"
     ]
    },
    {
     "name": "stderr",
     "output_type": "stream",
     "text": [
      "Epoch 128/200: 100%|████████████████████████████████████████████████████████████████████████████████████████████████████████████████| 230/230 [00:22<00:00, 10.10batch/s, loss=0.0419]\n"
     ]
    },
    {
     "name": "stdout",
     "output_type": "stream",
     "text": [
      "Epoch [128/200], Loss: 0.041873553848784904\n"
     ]
    },
    {
     "name": "stderr",
     "output_type": "stream",
     "text": [
      "Epoch 129/200: 100%|████████████████████████████████████████████████████████████████████████████████████████████████████████████████| 230/230 [00:23<00:00,  9.62batch/s, loss=0.0419]\n"
     ]
    },
    {
     "name": "stdout",
     "output_type": "stream",
     "text": [
      "Epoch [129/200], Loss: 0.04187309852112894\n"
     ]
    },
    {
     "name": "stderr",
     "output_type": "stream",
     "text": [
      "Epoch 130/200: 100%|████████████████████████████████████████████████████████████████████████████████████████████████████████████████| 230/230 [00:22<00:00, 10.06batch/s, loss=0.0419]\n"
     ]
    },
    {
     "name": "stdout",
     "output_type": "stream",
     "text": [
      "Epoch [130/200], Loss: 0.04187314165351184\n"
     ]
    },
    {
     "name": "stderr",
     "output_type": "stream",
     "text": [
      "Epoch 131/200: 100%|████████████████████████████████████████████████████████████████████████████████████████████████████████████████| 230/230 [00:22<00:00, 10.38batch/s, loss=0.0419]\n"
     ]
    },
    {
     "name": "stdout",
     "output_type": "stream",
     "text": [
      "Epoch [131/200], Loss: 0.04187310331541559\n"
     ]
    },
    {
     "name": "stderr",
     "output_type": "stream",
     "text": [
      "Epoch 132/200: 100%|████████████████████████████████████████████████████████████████████████████████████████████████████████████████| 230/230 [00:24<00:00,  9.33batch/s, loss=0.0419]\n"
     ]
    },
    {
     "name": "stdout",
     "output_type": "stream",
     "text": [
      "Epoch [132/200], Loss: 0.04187273904681206\n"
     ]
    },
    {
     "name": "stderr",
     "output_type": "stream",
     "text": [
      "Epoch 133/200: 100%|████████████████████████████████████████████████████████████████████████████████████████████████████████████████| 230/230 [00:24<00:00,  9.44batch/s, loss=0.0419]\n"
     ]
    },
    {
     "name": "stdout",
     "output_type": "stream",
     "text": [
      "Epoch [133/200], Loss: 0.04187270709030006\n"
     ]
    },
    {
     "name": "stderr",
     "output_type": "stream",
     "text": [
      "Epoch 134/200: 100%|████████████████████████████████████████████████████████████████████████████████████████████████████████████████| 230/230 [00:22<00:00, 10.26batch/s, loss=0.0419]\n"
     ]
    },
    {
     "name": "stdout",
     "output_type": "stream",
     "text": [
      "Epoch [134/200], Loss: 0.04187302955466768\n"
     ]
    },
    {
     "name": "stderr",
     "output_type": "stream",
     "text": [
      "Epoch 135/200: 100%|████████████████████████████████████████████████████████████████████████████████████████████████████████████████| 230/230 [00:27<00:00,  8.40batch/s, loss=0.0419]\n"
     ]
    },
    {
     "name": "stdout",
     "output_type": "stream",
     "text": [
      "Epoch [135/200], Loss: 0.041873011948621794\n"
     ]
    },
    {
     "name": "stderr",
     "output_type": "stream",
     "text": [
      "Epoch 136/200: 100%|████████████████████████████████████████████████████████████████████████████████████████████████████████████████| 230/230 [00:20<00:00, 11.35batch/s, loss=0.0419]\n"
     ]
    },
    {
     "name": "stdout",
     "output_type": "stream",
     "text": [
      "Epoch [136/200], Loss: 0.04187246034650699\n"
     ]
    },
    {
     "name": "stderr",
     "output_type": "stream",
     "text": [
      "Epoch 137/200: 100%|████████████████████████████████████████████████████████████████████████████████████████████████████████████████| 230/230 [00:26<00:00,  8.58batch/s, loss=0.0419]\n"
     ]
    },
    {
     "name": "stdout",
     "output_type": "stream",
     "text": [
      "Epoch [137/200], Loss: 0.04187228618108708\n"
     ]
    },
    {
     "name": "stderr",
     "output_type": "stream",
     "text": [
      "Epoch 138/200: 100%|████████████████████████████████████████████████████████████████████████████████████████████████████████████████| 230/230 [00:21<00:00, 10.84batch/s, loss=0.0419]\n"
     ]
    },
    {
     "name": "stdout",
     "output_type": "stream",
     "text": [
      "Epoch [138/200], Loss: 0.04187218660245771\n"
     ]
    },
    {
     "name": "stderr",
     "output_type": "stream",
     "text": [
      "Epoch 139/200: 100%|████████████████████████████████████████████████████████████████████████████████████████████████████████████████| 230/230 [00:25<00:00,  9.01batch/s, loss=0.0419]\n"
     ]
    },
    {
     "name": "stdout",
     "output_type": "stream",
     "text": [
      "Epoch [139/200], Loss: 0.041872058355289954\n"
     ]
    },
    {
     "name": "stderr",
     "output_type": "stream",
     "text": [
      "Epoch 140/200: 100%|████████████████████████████████████████████████████████████████████████████████████████████████████████████████| 230/230 [00:21<00:00, 10.49batch/s, loss=0.0419]\n"
     ]
    },
    {
     "name": "stdout",
     "output_type": "stream",
     "text": [
      "Epoch [140/200], Loss: 0.04187193153345067\n"
     ]
    },
    {
     "name": "stderr",
     "output_type": "stream",
     "text": [
      "Epoch 141/200: 100%|████████████████████████████████████████████████████████████████████████████████████████████████████████████████| 230/230 [00:25<00:00,  9.02batch/s, loss=0.0419]\n"
     ]
    },
    {
     "name": "stdout",
     "output_type": "stream",
     "text": [
      "Epoch [141/200], Loss: 0.04187185229814571\n"
     ]
    },
    {
     "name": "stderr",
     "output_type": "stream",
     "text": [
      "Epoch 142/200: 100%|████████████████████████████████████████████████████████████████████████████████████████████████████████████████| 230/230 [00:22<00:00, 10.22batch/s, loss=0.0419]\n"
     ]
    },
    {
     "name": "stdout",
     "output_type": "stream",
     "text": [
      "Epoch [142/200], Loss: 0.0418718876398128\n"
     ]
    },
    {
     "name": "stderr",
     "output_type": "stream",
     "text": [
      "Epoch 143/200: 100%|████████████████████████████████████████████████████████████████████████████████████████████████████████████████| 230/230 [00:24<00:00,  9.39batch/s, loss=0.0419]\n"
     ]
    },
    {
     "name": "stdout",
     "output_type": "stream",
     "text": [
      "Epoch [143/200], Loss: 0.04187160237975743\n"
     ]
    },
    {
     "name": "stderr",
     "output_type": "stream",
     "text": [
      "Epoch 144/200: 100%|████████████████████████████████████████████████████████████████████████████████████████████████████████████████| 230/230 [00:20<00:00, 11.10batch/s, loss=0.0419]\n"
     ]
    },
    {
     "name": "stdout",
     "output_type": "stream",
     "text": [
      "Epoch [144/200], Loss: 0.041871962388572485\n"
     ]
    },
    {
     "name": "stderr",
     "output_type": "stream",
     "text": [
      "Epoch 145/200: 100%|████████████████████████████████████████████████████████████████████████████████████████████████████████████████| 230/230 [00:25<00:00,  8.86batch/s, loss=0.0419]\n"
     ]
    },
    {
     "name": "stdout",
     "output_type": "stream",
     "text": [
      "Epoch [145/200], Loss: 0.04187162000200023\n"
     ]
    },
    {
     "name": "stderr",
     "output_type": "stream",
     "text": [
      "Epoch 146/200: 100%|████████████████████████████████████████████████████████████████████████████████████████████████████████████████| 230/230 [00:22<00:00, 10.19batch/s, loss=0.0419]\n"
     ]
    },
    {
     "name": "stdout",
     "output_type": "stream",
     "text": [
      "Epoch [146/200], Loss: 0.04187129870381044\n"
     ]
    },
    {
     "name": "stderr",
     "output_type": "stream",
     "text": [
      "Epoch 147/200: 100%|████████████████████████████████████████████████████████████████████████████████████████████████████████████████| 230/230 [00:24<00:00,  9.39batch/s, loss=0.0419]\n"
     ]
    },
    {
     "name": "stdout",
     "output_type": "stream",
     "text": [
      "Epoch [147/200], Loss: 0.041871214058736096\n"
     ]
    },
    {
     "name": "stderr",
     "output_type": "stream",
     "text": [
      "Epoch 148/200: 100%|████████████████████████████████████████████████████████████████████████████████████████████████████████████████| 230/230 [00:21<00:00, 10.53batch/s, loss=0.0419]\n"
     ]
    },
    {
     "name": "stdout",
     "output_type": "stream",
     "text": [
      "Epoch [148/200], Loss: 0.04187110121483388\n"
     ]
    },
    {
     "name": "stderr",
     "output_type": "stream",
     "text": [
      "Epoch 149/200: 100%|████████████████████████████████████████████████████████████████████████████████████████████████████████████████| 230/230 [00:24<00:00,  9.39batch/s, loss=0.0419]\n"
     ]
    },
    {
     "name": "stdout",
     "output_type": "stream",
     "text": [
      "Epoch [149/200], Loss: 0.041871045999552894\n"
     ]
    },
    {
     "name": "stderr",
     "output_type": "stream",
     "text": [
      "Epoch 150/200: 100%|████████████████████████████████████████████████████████████████████████████████████████████████████████████████| 230/230 [00:24<00:00,  9.33batch/s, loss=0.0419]\n"
     ]
    },
    {
     "name": "stdout",
     "output_type": "stream",
     "text": [
      "Epoch [150/200], Loss: 0.041870968967028285\n"
     ]
    },
    {
     "name": "stderr",
     "output_type": "stream",
     "text": [
      "Epoch 151/200: 100%|████████████████████████████████████████████████████████████████████████████████████████████████████████████████| 230/230 [00:22<00:00, 10.38batch/s, loss=0.0419]\n"
     ]
    },
    {
     "name": "stdout",
     "output_type": "stream",
     "text": [
      "Epoch [151/200], Loss: 0.04187090604201607\n"
     ]
    },
    {
     "name": "stderr",
     "output_type": "stream",
     "text": [
      "Epoch 152/200: 100%|████████████████████████████████████████████████████████████████████████████████████████████████████████████████| 230/230 [00:23<00:00,  9.68batch/s, loss=0.0419]\n"
     ]
    },
    {
     "name": "stdout",
     "output_type": "stream",
     "text": [
      "Epoch [152/200], Loss: 0.04187090727298156\n"
     ]
    },
    {
     "name": "stderr",
     "output_type": "stream",
     "text": [
      "Epoch 153/200: 100%|████████████████████████████████████████████████████████████████████████████████████████████████████████████████| 230/230 [00:23<00:00,  9.98batch/s, loss=0.0419]\n"
     ]
    },
    {
     "name": "stdout",
     "output_type": "stream",
     "text": [
      "Epoch [153/200], Loss: 0.04187080332118532\n"
     ]
    },
    {
     "name": "stderr",
     "output_type": "stream",
     "text": [
      "Epoch 154/200: 100%|████████████████████████████████████████████████████████████████████████████████████████████████████████████████| 230/230 [00:23<00:00,  9.77batch/s, loss=0.0419]\n"
     ]
    },
    {
     "name": "stdout",
     "output_type": "stream",
     "text": [
      "Epoch [154/200], Loss: 0.04187055312744949\n"
     ]
    },
    {
     "name": "stderr",
     "output_type": "stream",
     "text": [
      "Epoch 155/200: 100%|████████████████████████████████████████████████████████████████████████████████████████████████████████████████| 230/230 [00:23<00:00,  9.86batch/s, loss=0.0419]\n"
     ]
    },
    {
     "name": "stdout",
     "output_type": "stream",
     "text": [
      "Epoch [155/200], Loss: 0.0418704292372517\n"
     ]
    },
    {
     "name": "stderr",
     "output_type": "stream",
     "text": [
      "Epoch 156/200: 100%|████████████████████████████████████████████████████████████████████████████████████████████████████████████████| 230/230 [00:21<00:00, 10.65batch/s, loss=0.0419]\n"
     ]
    },
    {
     "name": "stdout",
     "output_type": "stream",
     "text": [
      "Epoch [156/200], Loss: 0.04187041069178478\n"
     ]
    },
    {
     "name": "stderr",
     "output_type": "stream",
     "text": [
      "Epoch 157/200: 100%|████████████████████████████████████████████████████████████████████████████████████████████████████████████████| 230/230 [00:25<00:00,  9.05batch/s, loss=0.0419]\n"
     ]
    },
    {
     "name": "stdout",
     "output_type": "stream",
     "text": [
      "Epoch [157/200], Loss: 0.041870391789985736\n"
     ]
    },
    {
     "name": "stderr",
     "output_type": "stream",
     "text": [
      "Epoch 158/200: 100%|████████████████████████████████████████████████████████████████████████████████████████████████████████████████| 230/230 [00:22<00:00, 10.09batch/s, loss=0.0419]\n"
     ]
    },
    {
     "name": "stdout",
     "output_type": "stream",
     "text": [
      "Epoch [158/200], Loss: 0.041870230031402215\n"
     ]
    },
    {
     "name": "stderr",
     "output_type": "stream",
     "text": [
      "Epoch 159/200: 100%|████████████████████████████████████████████████████████████████████████████████████████████████████████████████| 230/230 [00:24<00:00,  9.51batch/s, loss=0.0419]\n"
     ]
    },
    {
     "name": "stdout",
     "output_type": "stream",
     "text": [
      "Epoch [159/200], Loss: 0.04187013200767662\n"
     ]
    },
    {
     "name": "stderr",
     "output_type": "stream",
     "text": [
      "Epoch 160/200: 100%|████████████████████████████████████████████████████████████████████████████████████████████████████████████████| 230/230 [00:27<00:00,  8.44batch/s, loss=0.0419]\n"
     ]
    },
    {
     "name": "stdout",
     "output_type": "stream",
     "text": [
      "Epoch [160/200], Loss: 0.041870087239405385\n"
     ]
    },
    {
     "name": "stderr",
     "output_type": "stream",
     "text": [
      "Epoch 161/200: 100%|████████████████████████████████████████████████████████████████████████████████████████████████████████████████| 230/230 [00:19<00:00, 11.52batch/s, loss=0.0419]\n"
     ]
    },
    {
     "name": "stdout",
     "output_type": "stream",
     "text": [
      "Epoch [161/200], Loss: 0.041870360270790434\n"
     ]
    },
    {
     "name": "stderr",
     "output_type": "stream",
     "text": [
      "Epoch 162/200: 100%|████████████████████████████████████████████████████████████████████████████████████████████████████████████████| 230/230 [00:23<00:00,  9.70batch/s, loss=0.0419]\n"
     ]
    },
    {
     "name": "stdout",
     "output_type": "stream",
     "text": [
      "Epoch [162/200], Loss: 0.041870194074252375\n"
     ]
    },
    {
     "name": "stderr",
     "output_type": "stream",
     "text": [
      "Epoch 163/200: 100%|████████████████████████████████████████████████████████████████████████████████████████████████████████████████| 230/230 [00:23<00:00,  9.82batch/s, loss=0.0419]\n"
     ]
    },
    {
     "name": "stdout",
     "output_type": "stream",
     "text": [
      "Epoch [163/200], Loss: 0.041870035862793094\n"
     ]
    },
    {
     "name": "stderr",
     "output_type": "stream",
     "text": [
      "Epoch 164/200: 100%|████████████████████████████████████████████████████████████████████████████████████████████████████████████████| 230/230 [00:25<00:00,  8.98batch/s, loss=0.0419]\n"
     ]
    },
    {
     "name": "stdout",
     "output_type": "stream",
     "text": [
      "Epoch [164/200], Loss: 0.04186982533530049\n"
     ]
    },
    {
     "name": "stderr",
     "output_type": "stream",
     "text": [
      "Epoch 165/200: 100%|████████████████████████████████████████████████████████████████████████████████████████████████████████████████| 230/230 [00:21<00:00, 10.68batch/s, loss=0.0419]\n"
     ]
    },
    {
     "name": "stdout",
     "output_type": "stream",
     "text": [
      "Epoch [165/200], Loss: 0.0418698888272047\n"
     ]
    },
    {
     "name": "stderr",
     "output_type": "stream",
     "text": [
      "Epoch 166/200: 100%|████████████████████████████████████████████████████████████████████████████████████████████████████████████████| 230/230 [00:27<00:00,  8.35batch/s, loss=0.0419]\n"
     ]
    },
    {
     "name": "stdout",
     "output_type": "stream",
     "text": [
      "Epoch [166/200], Loss: 0.04186971158437107\n"
     ]
    },
    {
     "name": "stderr",
     "output_type": "stream",
     "text": [
      "Epoch 167/200: 100%|████████████████████████████████████████████████████████████████████████████████████████████████████████████████| 230/230 [00:20<00:00, 11.19batch/s, loss=0.0419]\n"
     ]
    },
    {
     "name": "stdout",
     "output_type": "stream",
     "text": [
      "Epoch [167/200], Loss: 0.04186963435748349\n"
     ]
    },
    {
     "name": "stderr",
     "output_type": "stream",
     "text": [
      "Epoch 168/200: 100%|████████████████████████████████████████████████████████████████████████████████████████████████████████████████| 230/230 [00:26<00:00,  8.69batch/s, loss=0.0419]\n"
     ]
    },
    {
     "name": "stdout",
     "output_type": "stream",
     "text": [
      "Epoch [168/200], Loss: 0.04186971121184204\n"
     ]
    },
    {
     "name": "stderr",
     "output_type": "stream",
     "text": [
      "Epoch 169/200: 100%|████████████████████████████████████████████████████████████████████████████████████████████████████████████████| 230/230 [00:21<00:00, 10.48batch/s, loss=0.0419]\n"
     ]
    },
    {
     "name": "stdout",
     "output_type": "stream",
     "text": [
      "Epoch [169/200], Loss: 0.04186977781355381\n"
     ]
    },
    {
     "name": "stderr",
     "output_type": "stream",
     "text": [
      "Epoch 170/200: 100%|████████████████████████████████████████████████████████████████████████████████████████████████████████████████| 230/230 [00:24<00:00,  9.25batch/s, loss=0.0419]\n"
     ]
    },
    {
     "name": "stdout",
     "output_type": "stream",
     "text": [
      "Epoch [170/200], Loss: 0.041869574315522025\n"
     ]
    },
    {
     "name": "stderr",
     "output_type": "stream",
     "text": [
      "Epoch 171/200: 100%|████████████████████████████████████████████████████████████████████████████████████████████████████████████████| 230/230 [00:21<00:00, 10.73batch/s, loss=0.0419]\n"
     ]
    },
    {
     "name": "stdout",
     "output_type": "stream",
     "text": [
      "Epoch [171/200], Loss: 0.04186948827751305\n"
     ]
    },
    {
     "name": "stderr",
     "output_type": "stream",
     "text": [
      "Epoch 172/200: 100%|████████████████████████████████████████████████████████████████████████████████████████████████████████████████| 230/230 [00:25<00:00,  9.02batch/s, loss=0.0419]\n"
     ]
    },
    {
     "name": "stdout",
     "output_type": "stream",
     "text": [
      "Epoch [172/200], Loss: 0.04186941704348378\n"
     ]
    },
    {
     "name": "stderr",
     "output_type": "stream",
     "text": [
      "Epoch 173/200: 100%|████████████████████████████████████████████████████████████████████████████████████████████████████████████████| 230/230 [00:26<00:00,  8.67batch/s, loss=0.0419]\n"
     ]
    },
    {
     "name": "stdout",
     "output_type": "stream",
     "text": [
      "Epoch [173/200], Loss: 0.04187785848651243\n"
     ]
    },
    {
     "name": "stderr",
     "output_type": "stream",
     "text": [
      "Epoch 174/200: 100%|████████████████████████████████████████████████████████████████████████████████████████████████████████████████| 230/230 [00:20<00:00, 11.16batch/s, loss=0.0419]\n"
     ]
    },
    {
     "name": "stdout",
     "output_type": "stream",
     "text": [
      "Epoch [174/200], Loss: 0.041874873330411705\n"
     ]
    },
    {
     "name": "stderr",
     "output_type": "stream",
     "text": [
      "Epoch 175/200: 100%|████████████████████████████████████████████████████████████████████████████████████████████████████████████████| 230/230 [00:24<00:00,  9.38batch/s, loss=0.0419]\n"
     ]
    },
    {
     "name": "stdout",
     "output_type": "stream",
     "text": [
      "Epoch [175/200], Loss: 0.041870568595502686\n"
     ]
    },
    {
     "name": "stderr",
     "output_type": "stream",
     "text": [
      "Epoch 176/200: 100%|████████████████████████████████████████████████████████████████████████████████████████████████████████████████| 230/230 [00:22<00:00, 10.32batch/s, loss=0.0419]\n"
     ]
    },
    {
     "name": "stdout",
     "output_type": "stream",
     "text": [
      "Epoch [176/200], Loss: 0.04186951105037461\n"
     ]
    },
    {
     "name": "stderr",
     "output_type": "stream",
     "text": [
      "Epoch 177/200: 100%|████████████████████████████████████████████████████████████████████████████████████████████████████████████████| 230/230 [00:25<00:00,  9.04batch/s, loss=0.0419]\n"
     ]
    },
    {
     "name": "stdout",
     "output_type": "stream",
     "text": [
      "Epoch [177/200], Loss: 0.041869177701680554\n"
     ]
    },
    {
     "name": "stderr",
     "output_type": "stream",
     "text": [
      "Epoch 178/200: 100%|████████████████████████████████████████████████████████████████████████████████████████████████████████████████| 230/230 [00:21<00:00, 10.73batch/s, loss=0.0419]\n"
     ]
    },
    {
     "name": "stdout",
     "output_type": "stream",
     "text": [
      "Epoch [178/200], Loss: 0.04186905873534472\n"
     ]
    },
    {
     "name": "stderr",
     "output_type": "stream",
     "text": [
      "Epoch 179/200: 100%|████████████████████████████████████████████████████████████████████████████████████████████████████████████████| 230/230 [00:24<00:00,  9.56batch/s, loss=0.0419]\n"
     ]
    },
    {
     "name": "stdout",
     "output_type": "stream",
     "text": [
      "Epoch [179/200], Loss: 0.041869017854332925\n"
     ]
    },
    {
     "name": "stderr",
     "output_type": "stream",
     "text": [
      "Epoch 180/200: 100%|████████████████████████████████████████████████████████████████████████████████████████████████████████████████| 230/230 [00:22<00:00, 10.13batch/s, loss=0.0419]\n"
     ]
    },
    {
     "name": "stdout",
     "output_type": "stream",
     "text": [
      "Epoch [180/200], Loss: 0.041869189444443455\n"
     ]
    },
    {
     "name": "stderr",
     "output_type": "stream",
     "text": [
      "Epoch 181/200: 100%|████████████████████████████████████████████████████████████████████████████████████████████████████████████████| 230/230 [00:24<00:00,  9.39batch/s, loss=0.0419]\n"
     ]
    },
    {
     "name": "stdout",
     "output_type": "stream",
     "text": [
      "Epoch [181/200], Loss: 0.04186882525682449\n"
     ]
    },
    {
     "name": "stderr",
     "output_type": "stream",
     "text": [
      "Epoch 182/200: 100%|████████████████████████████████████████████████████████████████████████████████████████████████████████████████| 230/230 [00:22<00:00, 10.26batch/s, loss=0.0419]\n"
     ]
    },
    {
     "name": "stdout",
     "output_type": "stream",
     "text": [
      "Epoch [182/200], Loss: 0.041868754217158195\n"
     ]
    },
    {
     "name": "stderr",
     "output_type": "stream",
     "text": [
      "Epoch 183/200: 100%|████████████████████████████████████████████████████████████████████████████████████████████████████████████████| 230/230 [00:24<00:00,  9.28batch/s, loss=0.0419]\n"
     ]
    },
    {
     "name": "stdout",
     "output_type": "stream",
     "text": [
      "Epoch [183/200], Loss: 0.04186887561303118\n"
     ]
    },
    {
     "name": "stderr",
     "output_type": "stream",
     "text": [
      "Epoch 184/200: 100%|████████████████████████████████████████████████████████████████████████████████████████████████████████████████| 230/230 [00:22<00:00, 10.17batch/s, loss=0.0419]\n"
     ]
    },
    {
     "name": "stdout",
     "output_type": "stream",
     "text": [
      "Epoch [184/200], Loss: 0.041868739882889\n"
     ]
    },
    {
     "name": "stderr",
     "output_type": "stream",
     "text": [
      "Epoch 185/200: 100%|████████████████████████████████████████████████████████████████████████████████████████████████████████████████| 230/230 [00:27<00:00,  8.44batch/s, loss=0.0419]\n"
     ]
    },
    {
     "name": "stdout",
     "output_type": "stream",
     "text": [
      "Epoch [185/200], Loss: 0.04186867428538592\n"
     ]
    },
    {
     "name": "stderr",
     "output_type": "stream",
     "text": [
      "Epoch 186/200: 100%|████████████████████████████████████████████████████████████████████████████████████████████████████████████████| 230/230 [00:20<00:00, 11.33batch/s, loss=0.0419]\n"
     ]
    },
    {
     "name": "stdout",
     "output_type": "stream",
     "text": [
      "Epoch [186/200], Loss: 0.041868635655745216\n"
     ]
    },
    {
     "name": "stderr",
     "output_type": "stream",
     "text": [
      "Epoch 187/200: 100%|████████████████████████████████████████████████████████████████████████████████████████████████████████████████| 230/230 [00:27<00:00,  8.47batch/s, loss=0.0419]\n"
     ]
    },
    {
     "name": "stdout",
     "output_type": "stream",
     "text": [
      "Epoch [187/200], Loss: 0.04186868376058081\n"
     ]
    },
    {
     "name": "stderr",
     "output_type": "stream",
     "text": [
      "Epoch 188/200: 100%|████████████████████████████████████████████████████████████████████████████████████████████████████████████████| 230/230 [00:23<00:00,  9.82batch/s, loss=0.0419]\n"
     ]
    },
    {
     "name": "stdout",
     "output_type": "stream",
     "text": [
      "Epoch [188/200], Loss: 0.041868631849470345\n"
     ]
    },
    {
     "name": "stderr",
     "output_type": "stream",
     "text": [
      "Epoch 189/200: 100%|████████████████████████████████████████████████████████████████████████████████████████████████████████████████| 230/230 [00:23<00:00,  9.72batch/s, loss=0.0419]\n"
     ]
    },
    {
     "name": "stdout",
     "output_type": "stream",
     "text": [
      "Epoch [189/200], Loss: 0.04186854551991691\n"
     ]
    },
    {
     "name": "stderr",
     "output_type": "stream",
     "text": [
      "Epoch 190/200: 100%|████████████████████████████████████████████████████████████████████████████████████████████████████████████████| 230/230 [00:24<00:00,  9.47batch/s, loss=0.0419]\n"
     ]
    },
    {
     "name": "stdout",
     "output_type": "stream",
     "text": [
      "Epoch [190/200], Loss: 0.04186858810160471\n"
     ]
    },
    {
     "name": "stderr",
     "output_type": "stream",
     "text": [
      "Epoch 191/200: 100%|████████████████████████████████████████████████████████████████████████████████████████████████████████████████| 230/230 [00:22<00:00, 10.12batch/s, loss=0.0419]\n"
     ]
    },
    {
     "name": "stdout",
     "output_type": "stream",
     "text": [
      "Epoch [191/200], Loss: 0.04186864496897096\n"
     ]
    },
    {
     "name": "stderr",
     "output_type": "stream",
     "text": [
      "Epoch 192/200: 100%|████████████████████████████████████████████████████████████████████████████████████████████████████████████████| 230/230 [00:25<00:00,  8.96batch/s, loss=0.0419]\n"
     ]
    },
    {
     "name": "stdout",
     "output_type": "stream",
     "text": [
      "Epoch [192/200], Loss: 0.041868394710447475\n"
     ]
    },
    {
     "name": "stderr",
     "output_type": "stream",
     "text": [
      "Epoch 193/200: 100%|████████████████████████████████████████████████████████████████████████████████████████████████████████████████| 230/230 [00:21<00:00, 10.76batch/s, loss=0.0419]\n"
     ]
    },
    {
     "name": "stdout",
     "output_type": "stream",
     "text": [
      "Epoch [193/200], Loss: 0.04186847410772158\n"
     ]
    },
    {
     "name": "stderr",
     "output_type": "stream",
     "text": [
      "Epoch 194/200: 100%|████████████████████████████████████████████████████████████████████████████████████████████████████████████████| 230/230 [00:27<00:00,  8.46batch/s, loss=0.0419]\n"
     ]
    },
    {
     "name": "stdout",
     "output_type": "stream",
     "text": [
      "Epoch [194/200], Loss: 0.04186843343726967\n"
     ]
    },
    {
     "name": "stderr",
     "output_type": "stream",
     "text": [
      "Epoch 195/200: 100%|████████████████████████████████████████████████████████████████████████████████████████████████████████████████| 230/230 [00:20<00:00, 11.30batch/s, loss=0.0419]\n"
     ]
    },
    {
     "name": "stdout",
     "output_type": "stream",
     "text": [
      "Epoch [195/200], Loss: 0.041868336093814476\n"
     ]
    },
    {
     "name": "stderr",
     "output_type": "stream",
     "text": [
      "Epoch 196/200: 100%|████████████████████████████████████████████████████████████████████████████████████████████████████████████████| 230/230 [00:26<00:00,  8.75batch/s, loss=0.0419]\n"
     ]
    },
    {
     "name": "stdout",
     "output_type": "stream",
     "text": [
      "Epoch [196/200], Loss: 0.04186833285443161\n"
     ]
    },
    {
     "name": "stderr",
     "output_type": "stream",
     "text": [
      "Epoch 197/200: 100%|████████████████████████████████████████████████████████████████████████████████████████████████████████████████| 230/230 [00:20<00:00, 11.38batch/s, loss=0.0419]\n"
     ]
    },
    {
     "name": "stdout",
     "output_type": "stream",
     "text": [
      "Epoch [197/200], Loss: 0.04186827859476856\n"
     ]
    },
    {
     "name": "stderr",
     "output_type": "stream",
     "text": [
      "Epoch 198/200: 100%|████████████████████████████████████████████████████████████████████████████████████████████████████████████████| 230/230 [00:27<00:00,  8.44batch/s, loss=0.0419]\n"
     ]
    },
    {
     "name": "stdout",
     "output_type": "stream",
     "text": [
      "Epoch [198/200], Loss: 0.04186818773007911\n"
     ]
    },
    {
     "name": "stderr",
     "output_type": "stream",
     "text": [
      "Epoch 199/200: 100%|████████████████████████████████████████████████████████████████████████████████████████████████████████████████| 230/230 [00:25<00:00,  9.09batch/s, loss=0.0419]\n"
     ]
    },
    {
     "name": "stdout",
     "output_type": "stream",
     "text": [
      "Epoch [199/200], Loss: 0.04186819053214529\n"
     ]
    },
    {
     "name": "stderr",
     "output_type": "stream",
     "text": [
      "Epoch 200/200: 100%|████████████████████████████████████████████████████████████████████████████████████████████████████████████████| 230/230 [00:21<00:00, 10.60batch/s, loss=0.0419]\n"
     ]
    },
    {
     "name": "stdout",
     "output_type": "stream",
     "text": [
      "Epoch [200/200], Loss: 0.04186819968340189\n",
      "Finished Training\n"
     ]
    }
   ],
   "source": [
    "\n",
    "from torch.utils.tensorboard import SummaryWriter\n",
    "\n",
    "num_epochs = 200\n",
    "writer = SummaryWriter('runs/unet_experiment')\n",
    "\n",
    "for epoch in range(num_epochs):\n",
    "    model.train()\n",
    "    running_loss = 0.0\n",
    "    \n",
    "    progress_bar = tqdm(train_loader, desc=f'Epoch {epoch+1}/{num_epochs}', unit='batch')\n",
    "\n",
    "    for images, labels in progress_bar:\n",
    "        images, labels = images.to(device), labels.to(device)\n",
    "        optimizer.zero_grad()\n",
    "        #print(\"test\")\n",
    "        outputs = model(images)\n",
    "        \n",
    "        #logits = outputs.logits\n",
    "        loss = criterion(outputs, labels)\n",
    "        \n",
    "        loss.backward()\n",
    "        optimizer.step()\n",
    "        \n",
    "        running_loss += loss.item()\n",
    "\n",
    "        progress_bar.set_postfix(loss=running_loss/len(progress_bar))\n",
    "        \n",
    "    print(f\"Epoch [{epoch+1}/{num_epochs}], Loss: {running_loss/len(train_loader)}\")\n",
    "    if (epoch + 1) % 50 == 0:\n",
    "        # \n",
    "        torch.save(model.state_dict(), f'weights/oxford_pet_{epoch+1}.pth')\n",
    "        writer.add_images('input_images', images, epoch)\n",
    "        writer.add_images('segmentation_masks', labels, epoch)\n",
    "        writer.add_images('predictions', torch.sigmoid(outputs), epoch)\n",
    "\n",
    "\n",
    "print(\"Finished Training\")"
   ]
  },
  {
   "cell_type": "markdown",
   "id": "c8263448-a382-4856-93d8-b25d548f0795",
   "metadata": {},
   "source": [
    "# Evalute\n"
   ]
  },
  {
   "cell_type": "code",
   "execution_count": 28,
   "id": "e2a5da28-4804-4f36-b877-c9e44fa57cc5",
   "metadata": {},
   "outputs": [
    {
     "data": {
      "text/plain": [
       "UNet(\n",
       "  (enc1): Sequential(\n",
       "    (0): Conv2d(3, 64, kernel_size=(3, 3), stride=(1, 1), padding=(1, 1))\n",
       "    (1): BatchNorm2d(64, eps=1e-05, momentum=0.1, affine=True, track_running_stats=True)\n",
       "    (2): ReLU(inplace=True)\n",
       "  )\n",
       "  (enc2): Sequential(\n",
       "    (0): Conv2d(64, 128, kernel_size=(3, 3), stride=(1, 1), padding=(1, 1))\n",
       "    (1): BatchNorm2d(128, eps=1e-05, momentum=0.1, affine=True, track_running_stats=True)\n",
       "    (2): ReLU(inplace=True)\n",
       "  )\n",
       "  (enc3): Sequential(\n",
       "    (0): Conv2d(128, 256, kernel_size=(3, 3), stride=(1, 1), padding=(1, 1))\n",
       "    (1): BatchNorm2d(256, eps=1e-05, momentum=0.1, affine=True, track_running_stats=True)\n",
       "    (2): ReLU(inplace=True)\n",
       "  )\n",
       "  (enc4): Sequential(\n",
       "    (0): Conv2d(256, 512, kernel_size=(3, 3), stride=(1, 1), padding=(1, 1))\n",
       "    (1): BatchNorm2d(512, eps=1e-05, momentum=0.1, affine=True, track_running_stats=True)\n",
       "    (2): ReLU(inplace=True)\n",
       "  )\n",
       "  (pool): MaxPool2d(kernel_size=2, stride=2, padding=0, dilation=1, ceil_mode=False)\n",
       "  (bottleneck): Sequential(\n",
       "    (0): Conv2d(512, 1024, kernel_size=(3, 3), stride=(1, 1), padding=(1, 1))\n",
       "    (1): BatchNorm2d(1024, eps=1e-05, momentum=0.1, affine=True, track_running_stats=True)\n",
       "    (2): ReLU(inplace=True)\n",
       "  )\n",
       "  (upconv4): ConvTranspose2d(1024, 512, kernel_size=(2, 2), stride=(2, 2))\n",
       "  (dec4): Sequential(\n",
       "    (0): Conv2d(1024, 512, kernel_size=(3, 3), stride=(1, 1), padding=(1, 1))\n",
       "    (1): BatchNorm2d(512, eps=1e-05, momentum=0.1, affine=True, track_running_stats=True)\n",
       "    (2): ReLU(inplace=True)\n",
       "  )\n",
       "  (upconv3): ConvTranspose2d(512, 256, kernel_size=(2, 2), stride=(2, 2))\n",
       "  (dec3): Sequential(\n",
       "    (0): Conv2d(512, 256, kernel_size=(3, 3), stride=(1, 1), padding=(1, 1))\n",
       "    (1): BatchNorm2d(256, eps=1e-05, momentum=0.1, affine=True, track_running_stats=True)\n",
       "    (2): ReLU(inplace=True)\n",
       "  )\n",
       "  (upconv2): ConvTranspose2d(256, 128, kernel_size=(2, 2), stride=(2, 2))\n",
       "  (dec2): Sequential(\n",
       "    (0): Conv2d(256, 128, kernel_size=(3, 3), stride=(1, 1), padding=(1, 1))\n",
       "    (1): BatchNorm2d(128, eps=1e-05, momentum=0.1, affine=True, track_running_stats=True)\n",
       "    (2): ReLU(inplace=True)\n",
       "  )\n",
       "  (upconv1): ConvTranspose2d(128, 64, kernel_size=(2, 2), stride=(2, 2))\n",
       "  (dec1): Sequential(\n",
       "    (0): Conv2d(128, 64, kernel_size=(3, 3), stride=(1, 1), padding=(1, 1))\n",
       "    (1): BatchNorm2d(64, eps=1e-05, momentum=0.1, affine=True, track_running_stats=True)\n",
       "    (2): ReLU(inplace=True)\n",
       "  )\n",
       "  (final_conv): Conv2d(64, 1, kernel_size=(1, 1), stride=(1, 1))\n",
       ")"
      ]
     },
     "execution_count": 28,
     "metadata": {},
     "output_type": "execute_result"
    }
   ],
   "source": [
    "import torch\n",
    "import torch.nn as nn\n",
    "\n",
    "# Assuming your U-Net class is already defined\n",
    "# Load the model\n",
    "model = UNet()  # Initialize your model (match with the architecture)\n",
    "model.load_state_dict(torch.load('weights/oxford_pet_200.pth'))  # Load the trained model weights\n",
    "model.eval()  # Set the model to evaluation mode"
   ]
  },
  {
   "cell_type": "code",
   "execution_count": 31,
   "id": "a357cb92-4dee-4ace-882e-f80aa929f732",
   "metadata": {},
   "outputs": [],
   "source": [
    "from PIL import Image\n",
    "import numpy as np\n",
    "from torchvision import transforms\n",
    "\n",
    "# Assuming test image and ground truth are stored as .png or .jpg files\n",
    "transform = transforms.Compose([\n",
    "    transforms.Resize((256, 256)),  # Resize to match the input size expected by U-Net\n",
    "    transforms.ToTensor()           # Convert image to PyTorch tensor\n",
    "])\n",
    "\n",
    "# Load test image and ground truth mask\n",
    "test_image = Image.open('data/oxford-iiit-pet/images/Abyssinian_10.jpg').convert('RGB')  # Replace with your image path\n",
    "test_mask = Image.open('data/oxford-iiit-pet/annotations/trimaps/Abyssinian_10.png').convert('L')      # Ground truth mask (binary or multi-class)\n",
    "\n",
    "# Transform images\n",
    "test_image_tensor = transform(test_image).unsqueeze(0)  # Add batch dimension\n",
    "test_mask_tensor = transform(test_mask).squeeze(0)  # No batch dimension needed for mask"
   ]
  },
  {
   "cell_type": "code",
   "execution_count": 33,
   "id": "478fc6c6-f6db-49ee-8858-fe6f916497bc",
   "metadata": {},
   "outputs": [],
   "source": [
    "# Move tensor to the same device as the model (GPU if available)\n",
    "device = torch.device(\"cuda\" if torch.cuda.is_available() else \"cpu\")\n",
    "model = model.to(device)\n",
    "test_image_tensor = test_image_tensor.to(device)\n",
    "\n",
    "# Make predictions\n",
    "with torch.no_grad():\n",
    "    predicted_mask = model(test_image_tensor)\n",
    "\n",
    "# Convert predicted mask back to a format suitable for visualization\n",
    "predicted_mask = torch.sigmoid(predicted_mask)  # Apply sigmoid to get probability map for binary segmentation\n",
    "predicted_mask = predicted_mask.squeeze().cpu().numpy()  # Remove batch and move to CPU for numpy\n",
    "predicted_mask = (predicted_mask > 0.5).astype(np.uint8)  # Apply threshold for binary mask"
   ]
  },
  {
   "cell_type": "code",
   "execution_count": 34,
   "id": "6e099883-aa97-4086-a3c4-cb35a6d2ee3f",
   "metadata": {},
   "outputs": [
    {
     "data": {
      "image/png": "[encoded data removed]",
      "text/plain": [
       "<Figure size 1000x500 with 3 Axes>"
      ]
     },
     "metadata": {},
     "output_type": "display_data"
    }
   ],
   "source": [
    "import matplotlib.pyplot as plt\n",
    "\n",
    "def visualize_segmentation(original_image, ground_truth, predicted_mask):\n",
    "    plt.figure(figsize=(10, 5))\n",
    "    \n",
    "    # Original Image\n",
    "    plt.subplot(1, 3, 1)\n",
    "    plt.imshow(original_image)\n",
    "    plt.title('Original Image')\n",
    "\n",
    "    # Ground Truth Mask\n",
    "    plt.subplot(1, 3, 2)\n",
    "    plt.imshow(ground_truth, cmap='gray')\n",
    "    plt.title('Ground Truth')\n",
    "\n",
    "    # Predicted Mask\n",
    "    plt.subplot(1, 3, 3)\n",
    "    plt.imshow(predicted_mask, cmap='gray')\n",
    "    plt.title('Predicted Mask')\n",
    "\n",
    "    plt.show()\n",
    "\n",
    "# Convert the test image and test mask from tensors to numpy arrays for visualization\n",
    "original_image_np = np.array(test_image)\n",
    "ground_truth_np = np.array(test_mask)\n",
    "\n",
    "# Visualize\n",
    "visualize_segmentation(original_image_np, ground_truth_np, predicted_mask)"
   ]
  },
  {
   "cell_type": "code",
   "execution_count": 37,
   "id": "b784cc23-614c-442d-87b5-3242b6e63204",
   "metadata": {},
   "outputs": [],
   "source": [
    "# Define the transformation\n",
    "transform = transforms.Compose([\n",
    "    transforms.Resize((128, 128)),  # Resize to a smaller size for quick evaluation\n",
    "    transforms.ToTensor()\n",
    "])\n",
    "\n",
    "# Load the OxfordIIITPet dataset (using the segmentation target)\n",
    "dataset = datasets.OxfordIIITPet(root='./data', split='test', target_types='segmentation', download=True, transform=transform, target_transform=transform)\n",
    "\n",
    "# Create a DataLoader for the dataset\n",
    "dataloader = DataLoader(dataset, batch_size=8, shuffle=False)\n",
    "\n",
    "# Define number of classes (background, pet, pet outline)\n",
    "num_classes = 3\n",
    "\n",
    "# Evaluate the model\n",
    "iou_scores = []\n",
    "pixel_accuracies = []\n"
   ]
  },
  {
   "cell_type": "code",
   "execution_count": 41,
   "id": "1223f113-3e8a-4ac8-a238-5abff7ff0010",
   "metadata": {},
   "outputs": [],
   "source": [
    "def compute_metrics(output, target, num_classes):\n",
    "    smooth = 1e-10  # To avoid division by zero\n",
    "\n",
    "    # Predicted mask\n",
    "    pred = torch.argmax(output, dim=1)\n",
    "\n",
    "    iou_per_class = []\n",
    "    pixel_accuracy_per_class = []\n",
    "\n",
    "    for cls in range(num_classes):\n",
    "        intersection = ((pred == cls) & (target == cls)).float().sum()  # TP\n",
    "        union = ((pred == cls) | (target == cls)).float().sum()  # TP + FP + FN\n",
    "        iou = (intersection + smooth) / (union + smooth)  # IoU\n",
    "\n",
    "        correct_pixels = (pred == target).float().sum()\n",
    "        total_pixels = torch.numel(target)\n",
    "        pixel_accuracy = correct_pixels / total_pixels\n",
    "\n",
    "        iou_per_class.append(iou.item())\n",
    "        pixel_accuracy_per_class.append(pixel_accuracy.item())\n",
    "\n",
    "    # Mean IoU and Mean Pixel Accuracy\n",
    "    mean_iou = np.mean(iou_per_class)\n",
    "    mean_pixel_accuracy = np.mean(pixel_accuracy_per_class)\n",
    "\n",
    "    return mean_iou, mean_pixel_accuracy\n"
   ]
  },
  {
   "cell_type": "code",
   "execution_count": 42,
   "id": "c66977c1-40dd-464a-ba9b-6b50062396e1",
   "metadata": {
    "scrolled": true
   },
   "outputs": [
    {
     "name": "stdout",
     "output_type": "stream",
     "text": [
      "Mean IoU: 1.0000\n",
      "Mean Pixel Accuracy: 1.0000\n"
     ]
    }
   ],
   "source": [
    "\n",
    "with torch.no_grad():\n",
    "    for images, masks in dataloader:\n",
    "        images, masks = images.to(device), masks.to(device).squeeze(1).long()  # Convert masks to long for loss calculation\n",
    "\n",
    "        # Get model predictions\n",
    "        outputs = model(images)\n",
    "\n",
    "        # Resize the outputs to match the mask dimensions (if needed)\n",
    "        outputs = F.interpolate(outputs, size=masks.shape[-2:], mode='bilinear', align_corners=False)\n",
    "\n",
    "        # Calculate IoU and Pixel Accuracy\n",
    "        iou, pixel_accuracy = compute_metrics(outputs, masks, num_classes)\n",
    "\n",
    "        iou_scores.append(iou)\n",
    "        pixel_accuracies.append(pixel_accuracy)\n",
    "\n",
    "# Calculate mean IoU and Pixel Accuracy\n",
    "mean_iou = np.mean(iou_scores)\n",
    "mean_pixel_accuracy = np.mean(pixel_accuracies)\n",
    "\n",
    "print(f\"Mean IoU: {mean_iou:.4f}\")\n",
    "print(f\"Mean Pixel Accuracy: {mean_pixel_accuracy:.4f}\")"
   ]
  }
 ],
 "metadata": {
  "kernelspec": {
   "display_name": "Python 3 (ipykernel)",
   "language": "python",
   "name": "python3"
  },
  "language_info": {
   "codemirror_mode": {
    "name": "ipython",
    "version": 3
   },
   "file_extension": ".py",
   "mimetype": "text/x-python",
   "name": "python",
   "nbconvert_exporter": "python",
   "pygments_lexer": "ipython3",
   "version": "3.11.9"
  }
 },
 "nbformat": 4,
 "nbformat_minor": 5
}
