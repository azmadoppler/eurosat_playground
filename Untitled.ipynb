{
 "cells": [
  {
   "cell_type": "code",
   "execution_count": null,
   "id": "0177ad2a-5f94-4caa-b29b-e57f19edb1cd",
   "metadata": {},
   "outputs": [],
   "source": [
    "def F(A,p,q,n):\n",
    "    if n == 0:\n",
    "        print(A)\n",
    "    else \n",
    "        for (i>p) and (i<=q):\n",
    "            F()"
   ]
  }
 ],
 "metadata": {
  "kernelspec": {
   "display_name": "Python 3 (ipykernel)",
   "language": "python",
   "name": "python3"
  },
  "language_info": {
   "codemirror_mode": {
    "name": "ipython",
    "version": 3
   },
   "file_extension": ".py",
   "mimetype": "text/x-python",
   "name": "python",
   "nbconvert_exporter": "python",
   "pygments_lexer": "ipython3",
   "version": "3.11.9"
  }
 },
 "nbformat": 4,
 "nbformat_minor": 5
}
